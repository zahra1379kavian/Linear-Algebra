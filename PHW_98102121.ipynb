{
  "cells": [
    {
      "cell_type": "markdown",
      "metadata": {
        "id": "sOafSUP_xzjY"
      },
      "source": [
        "<div dir=\"rtl\" class=\"alert alert-block alert-info\"> <font size=\"5\" face=\"HM XNiloofar\"> \n",
        "<b> روش‌های ریاضی در مهندسی - دکتر امینی: تمرین شبیه‌سازی </b>\n",
        "</font> </div>\n",
        "\n",
        "<div dir=\"rtl\"> <font size=\"4\" face=\"HM XNiloofar\"> \n",
        "<br />\n",
        "مهلت تحویل تمرین: ۶ مرداد ۱۴۰۱ <br />\n",
        "فقط قسمت‌های <code>TODO</code> را پر کنید و  Jupyter Notebook تکمیل شده را به فرمت <code>ipynb</code> و <code>html</code> به عنوان گزارش خود در CW آپلود کنید. <br />\n",
        "ابهامات و سوالات خود در مورد این تمرین را می توانید با طراح تمرین مطرح کنید. <br />\n",
        "<div dir=\"ltr\">@hamidreza_ehteram </div> <br />  \n",
        "در این تمرین شما با روش‌های عددی در تجزیه‌های ماتریسی و یادگیری واژه‌نامه به منظور نویززدایی تصاویر  آشنا می‌شوید. <br />\n",
        "</font> </div>"
      ]
    },
    {
      "cell_type": "markdown",
      "metadata": {
        "id": "fi-MJg8-xzjc"
      },
      "source": [
        "***You can jump directly to these sections:***\n",
        "\n",
        "+ [A. Matrix Decompositions](#A.-Matrix-Decompositions)\n",
        "    + [1. Schur](#1.-Schur)\n",
        "    + [2. SVD](#2.-SVD)\n",
        "    + [3. Cholesky](#3.-Cholesky)\n",
        "    + [4. QR](#4.-QR)\n",
        "+ [B. Dictionary Learning](#B.-Dictionary-Learning)\n",
        "    + [1. Create dataset](#1.-Create-dataset)\n",
        "    + [2. Initialize dictionary](#2.-Initialize-dictionary)    \n",
        "    + [3. Learn dictionary](#3.-Learn-dictionary) \n",
        "    + [4. Reconstruct image](#4.-Reconstruct-image)     \n",
        "    + [5. Evaluation](#5.-Evaluation)     \n",
        "+ [Give Us Feedback](#Give-Us-Feedback)\n",
        "\n",
        "---"
      ]
    },
    {
      "cell_type": "markdown",
      "metadata": {
        "id": "M46akC9yxzje"
      },
      "source": [
        "# A. Matrix Decompositions"
      ]
    },
    {
      "cell_type": "code",
      "execution_count": null,
      "metadata": {
        "id": "W-7QYMWYxzjg"
      },
      "outputs": [],
      "source": [
        "# The allowed libraries\n",
        "import time\n",
        "import numpy as np\n",
        "from math import sqrt"
      ]
    },
    {
      "cell_type": "markdown",
      "metadata": {
        "id": "raN3YszSxzjg"
      },
      "source": [
        "## 1. Schur\n",
        "\n",
        "\n",
        "$$A \\in \\mathbb{R}^{n\\times n} \\text{ is a symmetric matrix} \\iff \\exists \\text{ an orthogonal matrix } Q: Q^\\top A Q = \\Lambda = \\text{diag}(\\lambda_1,\\ldots,\\lambda_n)$$"
      ]
    },
    {
      "cell_type": "markdown",
      "metadata": {
        "id": "HaVFs4eFxzjh"
      },
      "source": [
        "<div dir=\"rtl\"> <font size=\"4\" face=\"HM XNiloofar\">\n",
        "الگوریتم jacobi را در حالت  cyclic پیاده‌سازی کنید.\n",
        "</font> </div>\n",
        "\n",
        "```python\n",
        "d, Q = my_schur(A)\n",
        "```\n",
        "\n",
        "<div dir=\"rtl\"> <font size=\"4\" face=\"HM XNiloofar\"> \n",
        "ورودی یک ماتریس متقارن حقیقی دلخواه و خروجی مقادیر ویژه و بردار‌های ویژه متناظر در تجزیه schur است. \n",
        "<br />\n",
        "Cell مربوط به ارزیابی کد را اجرا کنید. خروجی الگوریتم خود را با خروجی تابع numpy مقایسه کنید. درباره‌ی تفاوت‌ها توضیح دهید.\n",
        "<br />\n",
        "Cell تست زمان و صحت را جهت ارزیابی کارایی الگوریتم خود اجرا کنید.\n",
        "</font> </div>"
      ]
    },
    {
      "cell_type": "code",
      "execution_count": null,
      "metadata": {
        "id": "_uo0xc2Sxzjm"
      },
      "outputs": [],
      "source": [
        "def my_schur(A):\n",
        "    n = np.shape(A)[0]\n",
        "    thr = 10**-6 * np.linalg.norm(A)\n",
        "\n",
        "    Q = np.eye(n)\n",
        "    A2 = np.multiply(A,A)\n",
        "    diag = np.diag(A2)\n",
        "    off_A = np.sqrt(np.sum(A2) - np.sum(diag))\n",
        "\n",
        "    while off_A > thr:\n",
        "      for p in range(n):\n",
        "        for q in range(p+1,n):\n",
        "          #now we have p and q, so we shoould create j and go through it\n",
        "\n",
        "          aqq = A[q,q]\n",
        "          app = A[p,p]\n",
        "          apq = A[p,q]\n",
        "\n",
        "          if app == aqq:\n",
        "            theta = 0.25 * np.pi * np.sign(apq)  \n",
        "          else:\n",
        "            theta = 0.5 * np.arctan(2*apq/(aqq - app))\n",
        "\n",
        "          c = np.cos(theta)\n",
        "          s = np.sin(theta)\n",
        "\n",
        "\n",
        "          A1 = np.copy(A)\n",
        "          A1[:, p] = c * A[:, p] - s * A[:, q]\n",
        "          A1[:, q] = c * A[:, q] + s * A[:, p]\n",
        "          A1[p, :] = c * A[p, :] - s * A[q, :]\n",
        "          A1[q, :] = c * A[q, :] + s * A[p, :]\n",
        "          A1[p, p] = app * (c**2) - 2 * apq * s * c + aqq * (s**2)\n",
        "          A1[q, q] = aqq * (c**2) + 2 * apq * s * c + app * (s**2)\n",
        "          A1[p, q] = 0\n",
        "          A1[q, p] = 0\n",
        "\n",
        "          Q1 = np.copy(Q)\n",
        "          Q1[:, p] = c * Q[:, p] - s * Q[:, q]\n",
        "          Q1[:, q] = s * Q[:, p] + c * Q[:, q]\n",
        "\n",
        "\n",
        "          off_A = np.sqrt(off_A**2 - 2 * (apq ** 2))\n",
        "\n",
        "          Q = np.copy(Q1)\n",
        "          A = np.copy(A1)\n",
        "    d = np.diag(A)      \n",
        "    return d, Q"
      ]
    },
    {
      "cell_type": "code",
      "execution_count": null,
      "metadata": {
        "colab": {
          "base_uri": "https://localhost:8080/"
        },
        "id": "4G1fhNRqxzjn",
        "outputId": "a54b2b45-1851-463c-bc0a-45e19f65e755"
      },
      "outputs": [
        {
          "name": "stdout",
          "output_type": "stream",
          "text": [
            "numpy| orthogonal test error ---> 2.698411991808442e-15\n",
            "numpy| correctness test error ---> 7.934466647929284e-15\n",
            "yours| orthogonal test error ---> 1.7525987469529987e-15\n",
            "yours| correctness test error ---> 1.0351126135606434e-06\n",
            "A = \n",
            "[[ 2.047  0.038 -0.408 -0.625  1.179  0.198 -1.053 -1.066]\n",
            " [ 0.038  0.804  1.988  0.183  0.763 -1.165  0.193 -0.045]\n",
            " [-0.408  1.988 -0.946 -1.547  0.403  0.878  0.401 -0.233]\n",
            " [-0.625  0.183 -1.547  0.426 -0.135 -1.226  0.528 -0.699]\n",
            " [ 1.179  0.763  0.403 -0.135  0.223  0.365  0.617 -0.65 ]\n",
            " [ 0.198 -1.165  0.878 -1.226  0.365  0.145  1.176  0.254]\n",
            " [-1.053  0.193  0.401  0.528  0.617  1.176 -0.852 -0.343]\n",
            " [-1.066 -0.045 -0.233 -0.699 -0.65   0.254 -0.343 -0.332]]\n",
            "d = \n",
            "[ 3.34   2.65   2.349  1.047 -3.274 -2.418 -1.357 -0.823]\n",
            "my_d = \n",
            "[ 3.34   2.65  -3.274  2.349  1.047 -1.357 -2.418 -0.823]\n",
            "Q = \n",
            "[[ 0.747  0.444 -0.096  0.127  0.16   0.171 -0.405 -0.035]\n",
            " [ 0.218 -0.386  0.673  0.173 -0.464 -0.028 -0.322  0.001]\n",
            " [ 0.211 -0.538  0.107  0.084  0.727 -0.206  0.026 -0.278]\n",
            " [-0.294  0.393  0.414 -0.428  0.281 -0.4   -0.405  0.037]\n",
            " [ 0.427 -0.082  0.141 -0.423  0.03  -0.148  0.426  0.638]\n",
            " [ 0.141 -0.319 -0.551 -0.342 -0.306 -0.465 -0.376 -0.082]\n",
            " [-0.073 -0.261 -0.002 -0.571  0.097  0.726 -0.252 -0.031]\n",
            " [-0.236 -0.182 -0.176  0.377  0.22   0.06  -0.426  0.711]]\n",
            "my_Q = \n",
            "[[ 0.747 -0.444  0.16  -0.096 -0.127  0.405  0.171 -0.035]\n",
            " [ 0.218  0.386 -0.464  0.673 -0.173  0.322 -0.028  0.001]\n",
            " [ 0.211  0.538  0.727  0.107 -0.084 -0.026 -0.206 -0.278]\n",
            " [-0.294 -0.393  0.281  0.414  0.428  0.405 -0.4    0.037]\n",
            " [ 0.427  0.082  0.03   0.141  0.423 -0.426 -0.148  0.638]\n",
            " [ 0.141  0.319 -0.306 -0.551  0.342  0.376 -0.465 -0.082]\n",
            " [-0.073  0.261  0.097 -0.002  0.571  0.252  0.726 -0.031]\n",
            " [-0.236  0.182  0.22  -0.176 -0.377  0.426  0.06   0.711]]\n"
          ]
        }
      ],
      "source": [
        "# evaluate\n",
        "n = 8\n",
        "A = np.random.randn(n,n)\n",
        "A = (A + A.transpose()) / 2\n",
        "\n",
        "# numpy code\n",
        "d, Q = np.linalg.eig(A.copy())\n",
        "print(f'numpy| orthogonal test error ---> {np.linalg.norm(np.eye(n) - Q @ Q.T)}')\n",
        "print(f'numpy| correctness test error ---> {np.linalg.norm(A - Q @ np.diag(d) @ Q.T)}')\n",
        "\n",
        "# your code\n",
        "my_d, my_Q = my_schur(A.copy())\n",
        "print(f'yours| orthogonal test error ---> {np.linalg.norm(np.eye(n) - my_Q @ my_Q.T)}')\n",
        "print(f'yours| correctness test error ---> {np.linalg.norm(A - my_Q @ np.diag(my_d) @ my_Q.T)}')\n",
        "\n",
        "# print\n",
        "print(f'A = \\n{np.around(A, 3)}')\n",
        "print(f'd = \\n{np.around(d, 3)}')\n",
        "print(f'my_d = \\n{np.around(my_d, 3)}')\n",
        "print(f'Q = \\n{np.around(Q, 3)}')\n",
        "print(f'my_Q = \\n{np.around(my_Q, 3)}')"
      ]
    },
    {
      "cell_type": "markdown",
      "metadata": {
        "id": "jaYOYgWKxzjo"
      },
      "source": [
        "**Your answer: ```TODO ```**"
      ]
    },
    {
      "cell_type": "code",
      "execution_count": null,
      "metadata": {
        "colab": {
          "base_uri": "https://localhost:8080/"
        },
        "id": "KfiDGZZlxzjp",
        "outputId": "a4fb26cb-e753-481f-f56f-3f401a3d9642"
      },
      "outputs": [
        {
          "name": "stderr",
          "output_type": "stream",
          "text": [
            "/usr/local/lib/python3.7/dist-packages/ipykernel_launcher.py:43: RuntimeWarning: invalid value encountered in sqrt\n"
          ]
        },
        {
          "name": "stdout",
          "output_type": "stream",
          "text": [
            "numpy| test ---> {'time': 0.0010151052474975586, 'orthogonal test error': 3.824593455105633e-14, 'correctness test error': 1.9187856210865137e-13}\n",
            "yours| test ---> {'time': 0.3786067771911621, 'orthogonal test error': 1.2804712425467693e-14, 'correctness test error': 5.403488781525422e-06}\n",
            "yours| check ---> {'time': True, 'orthogonal test error': True, 'correctness test error': True}\n"
          ]
        }
      ],
      "source": [
        "# time and correctness test\n",
        "numpy_test = {'time': 0.0, 'orthogonal test error':0.0, 'correctness test error':0.0}\n",
        "yours_test = {'time': 0.0, 'orthogonal test error':0.0, 'correctness test error':0.0}\n",
        "\n",
        "num_test = 100\n",
        "for i in range(num_test):\n",
        "    n = np.random.randint(40, 50)\n",
        "    A = np.random.randn(n,n)\n",
        "    A = (A + A.transpose()) / 2\n",
        "\n",
        "    # numpy code\n",
        "    start_time = time.time()\n",
        "    d, Q = np.linalg.eig(A.copy())\n",
        "    \n",
        "    numpy_test['time'] += time.time() - start_time\n",
        "    numpy_test['orthogonal test error'] += np.linalg.norm(np.eye(n) - Q @ Q.T)\n",
        "    numpy_test['correctness test error'] += np.linalg.norm(A - Q @ np.diag(d) @ Q.T)\n",
        "\n",
        "    # your code\n",
        "    start_time = time.time()\n",
        "    my_d, my_Q = my_schur(A.copy())\n",
        "    \n",
        "    yours_test['time'] += time.time() - start_time\n",
        "    yours_test['orthogonal test error'] += np.linalg.norm(np.eye(n) - my_Q @ my_Q.T)\n",
        "    yours_test['correctness test error'] += np.linalg.norm(A - my_Q @ np.diag(my_d) @ my_Q.T)\n",
        "\n",
        "for name in numpy_test:\n",
        "    numpy_test[name] /= num_test\n",
        "    yours_test[name] /= num_test\n",
        "\n",
        "yours_check = {'time': yours_test['time'] <= 0.5, \n",
        "               'orthogonal test error': yours_test['orthogonal test error'] <= 1e-5, \n",
        "               'correctness test error': yours_test['correctness test error'] <= 1e-5}\n",
        "\n",
        "print(f'numpy| test ---> {numpy_test}')\n",
        "print(f'yours| test ---> {yours_test}')\n",
        "print(f'yours| check ---> {yours_check}')"
      ]
    },
    {
      "cell_type": "markdown",
      "metadata": {
        "id": "eM3okLHLxzjq"
      },
      "source": [
        "## 2. SVD\n",
        "\n",
        "$$A \\in \\mathbb{R}^{m\\times n} \\text{ is a matrix} \\iff \\exists \\text{ two orthogonal matrices } U \\text{ and } V: U^\\top A V = \\Sigma = \\text{diag}(\\sigma_1,\\ldots,\\sigma_p), p=\\min\\{m,n\\}, \\sigma_1 \\geq \\ldots \\geq \\sigma_p \\geq 0$$"
      ]
    },
    {
      "cell_type": "markdown",
      "metadata": {
        "id": "06n0wC9exzjq"
      },
      "source": [
        "<div dir=\"rtl\"> <font size=\"4\" face=\"HM XNiloofar\">\n",
        "الگوریتم two-sided را در حالت  cyclic پیاده‌سازی کنید.\n",
        "</font> </div>\n",
        "\n",
        "```python\n",
        "U, s, VT = my_svd(A)\n",
        "```\n",
        "\n",
        "<div dir=\"rtl\"> <font size=\"4\" face=\"HM XNiloofar\"> \n",
        "ورودی یک ماتریس حقیقی دلخواه و خروجی ماتریس بردارهای تکین چپ، مقادیر تکین و ترانهاده ماتریس بردارهای تکین راست است. \n",
        "<br />\n",
        "<b>ملاحظه.</b> الگوریتم شما باید ماتریس‌های خروجی را به صورتی به دست آورد که مقادیر تکین مثبت و نزولی باشند\n",
        "<br />\n",
        "Cell مربوط به ارزیابی کد را اجرا کنید. خروجی الگوریتم خود را با خروجی تابع numpy مقایسه کنید. درباره‌ی تفاوت‌ها توضیح دهید.\n",
        "<br />\n",
        "Cell تست زمان و صحت را جهت ارزیابی کارایی الگوریتم خود اجرا کنید.\n",
        "</font> </div>"
      ]
    },
    {
      "cell_type": "code",
      "execution_count": null,
      "metadata": {
        "id": "_cDHB9VDxzjr"
      },
      "outputs": [],
      "source": [
        "def my_svd(A):\n",
        "    \n",
        "    # TODO\n",
        "    m = A.shape[0]\n",
        "    n = A.shape[1]\n",
        "\n",
        "    V = np.eye(n)\n",
        "    U = np.eye(m)\n",
        "\n",
        "    A2 = np.multiply(A,A)\n",
        "    diag = np.diag(A2)\n",
        "    off_A = np.sqrt(np.sum(A2) - np.sum(diag))\n",
        "    thr = 10**(-7)*np.linalg.norm(A)\n",
        "    \n",
        "    \n",
        "    while off_A>thr:\n",
        "      if m < n:\n",
        "        for p in range(m):\n",
        "            for q in range(p+1,m):\n",
        "                ################### Making Symmetric ################# \n",
        "\n",
        "                if A[q,q] == -A[p,p] and A[p,q] == A[q,p]:\n",
        "                  alpha = 0\n",
        "                if A[q,q] == -A[p,p] and A[p,q] != A[q,p]:\n",
        "                  alpha = 0.5 * np.pi * np.sign(A[p,q] - A[q,p])\n",
        "                if A[q,q] != A[p,p]:\n",
        "                  alpha = np.arctan((A[p,q] - A[q,p]) / (A[p,p] + A[q,q]))\n",
        "              \n",
        "                c = np.cos(alpha)\n",
        "                s = np.sin(alpha)\n",
        "\n",
        "                A1 = np.copy(A)\n",
        "\n",
        "                A1[p, :] = c * A[p, :] - s * A[q, :]\n",
        "                A1[q, :] = c * A[q, :] + s * A[p, :]\n",
        "\n",
        "                off_A = np.sqrt(off_A**2 - (A[p,q] ** 2 + A[q,p] ** 2) + 2 * (A1[p,q] ** 2))\n",
        "\n",
        "                A = np.copy(A1)\n",
        "\n",
        "                U1 = np.copy(U)\n",
        "\n",
        "                U1[p, :] = c * U[p, :] - s * U[q, :]\n",
        "                U1[q, :] = c * U[q, :] + s * U[p, :]\n",
        "\n",
        "                U = np.copy(U1)\n",
        "                \n",
        "                \n",
        "                ######################### Making squared matrix ##################\n",
        "                if A[p,p] == A[q,q]:\n",
        "                  theta = 0.25 * np.pi * np.sign(A[p,q])  \n",
        "                else:\n",
        "                  theta = 0.5 * np.arctan(2*A[p,q]/(A[q,q] - A[p,p]))\n",
        "\n",
        "                c = np.cos(theta)\n",
        "                s = np.sin(theta)\n",
        "\n",
        "\n",
        "                A1 = np.copy(A)\n",
        "                A1[:, p] = c * A[:, p] - s * A[:, q]\n",
        "                A1[:, q] = c * A[:, q] + s * A[:, p]\n",
        "                A1[p, :] = c * A[p, :] - s * A[q, :]\n",
        "                A1[q, :] = c * A[q, :] + s * A[p, :]\n",
        "                A1[p, p] = A[p,p] * (c**2) - 2 * A[p,q] * s * c + A[q,q] * (s**2)\n",
        "                A1[q, q] = A[q,q] * (c**2) + 2 * A[p,q] * s * c + A[p,p] * (s**2)\n",
        "                A1[p, q] = 0\n",
        "                A1[q, p] = 0\n",
        "\n",
        "                V1 = np.copy(V)\n",
        "                V1[:, p] = c * V[:, p] - s * V[:, q]\n",
        "                V1[:, q] = s * V[:, p] + c * V[:, q]\n",
        "\n",
        "                V = np.copy(V1)\n",
        "\n",
        "                U1 = np.copy(U)\n",
        "                U1[p, :] = c * U[p, :] - s * U[q, :]\n",
        "                U1[q, :] = c * U[q, :] + s * U[p, :]\n",
        "                U = np.copy(U1)\n",
        "\n",
        "                off_A = np.sqrt(off_A**2 - 2 * (A[p,q] ** 2))\n",
        "\n",
        "                A = np.copy(A1)\n",
        "\n",
        "                a11 = A[p,p]\n",
        "                a12 = A[p,q]\n",
        "                a21 = A[q,p]\n",
        "                a22 = A[q,q] \n",
        "                \n",
        "            for q in range(m,n):\n",
        "              xi = A[p,p]\n",
        "              xj = A[p,q]\n",
        "              den = np.sqrt(xi**2 + xj**2)\n",
        "              c = xi / den\n",
        "              s = -xj / den\n",
        "\n",
        "              A1 = np.copy(A)\n",
        "              A1[:, p] = c * A[:, p] - s * A[:, q]\n",
        "              A1[:, q] = c * A[:, q] + s * A[:, p]\n",
        "\n",
        "              V1 = np.copy(V)\n",
        "              V1[:, p] = c * V[:, p] - s * V[:, q]\n",
        "              V1[:, q] = c * V[:, q] + s * V[:, p]\n",
        "              V = np.copy(V1)\n",
        "\n",
        "              off_A = np.sqrt(off_A**2 - (A[p,q] ** 2))\n",
        "                  \n",
        "              A = np.copy(A1)\n",
        "      elif m > n:\n",
        "        for p in range(n):\n",
        "            for q in range(p+1,n):\n",
        "                ################### Making Symmetric ################# \n",
        "                if A[q,q] == -A[p,p] and A[p,q] == A[q,p]:\n",
        "                  alpha = 0\n",
        "                if A[q,q] == -A[p,p] and A[p,q] != A[q,p]:\n",
        "                  alpha = 0.5 * np.pi * np.sign(A[p,q] - A[q,p])\n",
        "                if A[q,q] != A[p,p]:\n",
        "                  alpha = np.arctan((A[p,q] - A[q,p]) / (A[p,p] + A[q,q]))\n",
        "              \n",
        "                c = np.cos(alpha)\n",
        "                s = np.sin(alpha)\n",
        "\n",
        "                A1 = np.copy(A)\n",
        "\n",
        "                A1[p, :] = c * A[p, :] - s * A[q, :]\n",
        "                A1[q, :] = c * A[q, :] + s * A[p, :]\n",
        "\n",
        "                off_A = np.sqrt(off_A**2 - (A[p,q] ** 2 + A[q,p] ** 2) + 2 * (A1[p,q] ** 2))\n",
        "                A = np.copy(A1) \n",
        "\n",
        "                U1 = np.copy(U)\n",
        "                U1[p, :] = c * U[p, :] - s * U[q, :]\n",
        "                U1[q, :] = c * U[q, :] + s * U[p, :]\n",
        "                U = np.copy(U1)\n",
        "                \n",
        "                \n",
        "                ######################### Making squared matrix ##################\n",
        "\n",
        "                if A[p,p] == A[q,q]:\n",
        "                  theta = 0.25 * np.pi * np.sign(A[p,q])  \n",
        "                else:\n",
        "                  theta = 0.5 * np.arctan(2*A[p,q]/(A[q,q] - A[p,p]))\n",
        "\n",
        "                c = np.cos(theta)\n",
        "                s = np.sin(theta)\n",
        "\n",
        "\n",
        "                A1 = np.copy(A)\n",
        "                A1[:, p] = c * A[:, p] - s * A[:, q]\n",
        "                A1[:, q] = c * A[:, q] + s * A[:, p]\n",
        "                A1[p, :] = c * A[p, :] - s * A[q, :]\n",
        "                A1[q, :] = c * A[q, :] + s * A[p, :]\n",
        "                A1[p, p] = A[p,p] * (c**2) - 2 * A[p,q] * s * c + A[q,q] * (s**2)\n",
        "                A1[q, q] = A[q,q] * (c**2) + 2 * A[p,q] * s * c + A[p,p] * (s**2)\n",
        "                A1[p, q] = 0\n",
        "                A1[q, p] = 0\n",
        "\n",
        "                V1 = np.copy(V)\n",
        "                V1[:, p] = c * V[:, p] - s * V[:, q]\n",
        "                V1[:, q] = s * V[:, p] + c * V[:, q]\n",
        "                V = np.copy(V1)\n",
        "\n",
        "                U1 = np.copy(U)\n",
        "                U1[p, :] = c * U[p, :] - s * U[q, :]\n",
        "                U1[q, :] = c * U[q, :] + s * U[p, :]\n",
        "                U = np.copy(U1)\n",
        "\n",
        "                off_A = np.sqrt(off_A**2 - 2 * (A[p,q] ** 2))\n",
        "                A = np.copy(A1) \n",
        "                  \n",
        "            for q in range(n, m):\n",
        "                xi = A[p,p]\n",
        "                xj = A[q,p]\n",
        "                den = np.sqrt(xi**2 + xj**2)\n",
        "                c = xi / den\n",
        "                s = -xj / den\n",
        "\n",
        "                A1 = np.copy(A)\n",
        "                A1[p, :] = c * A[p, :] - s * A[q, :]\n",
        "                A1[q, :] = c * A[q, :] + s * A[p, :]\n",
        "\n",
        "                U1 = np.copy(U)\n",
        "                U1[p, :] = c * U[p, :] - s * U[q, :]\n",
        "                U1[q, :] = c * U[q, :] + s * U[p, :]\n",
        "                U = np.copy(U1)\n",
        "\n",
        "                off_A = np.sqrt(off_A**2 - (A[q,p] ** 2))\n",
        "                  \n",
        "                A = np.copy(A1)\n",
        "                \n",
        "      else:\n",
        "        for p in range(n):\n",
        "              for q in range(p+1,n):\n",
        "                ################### Making Symmetric ################# \n",
        "                if A[q,q] == -A[p,p] and A[p,q] == A[q,p]:\n",
        "                  alpha = 0\n",
        "                if A[q,q] == -A[p,p] and A[p,q] != A[q,p]:\n",
        "                  alpha = 0.5 * np.pi * np.sign(A[p,q] - A[q,p])\n",
        "                if A[q,q] != A[p,p]:\n",
        "                  alpha = np.arctan((A[p,q] - A[q,p]) / (A[p,p] + A[q,q]))\n",
        "              \n",
        "                c = np.cos(alpha)\n",
        "                s = np.sin(alpha)\n",
        "\n",
        "                A1 = np.copy(A)\n",
        "\n",
        "                A1[p, :] = c * A[p, :] - s * A[q, :]\n",
        "                A1[q, :] = c * A[q, :] + s * A[p, :]\n",
        "\n",
        "                off_A = np.sqrt(off_A**2 - (A[p,q] ** 2 + A[q,p] ** 2) + 2 * (A1[p,q] ** 2))\n",
        "\n",
        "                A = np.copy(A1)\n",
        "\n",
        "                U1 = np.copy(U)\n",
        "\n",
        "                U1[p, :] = c * U[p, :] - s * U[q, :]\n",
        "                U1[q, :] = c * U[q, :] + s * U[p, :]\n",
        "\n",
        "                U = np.copy(U1)\n",
        "                \n",
        "                \n",
        "                ######################### Making squared matrix ##################\n",
        "\n",
        "                if A[p,p] == A[q,q]:\n",
        "                  theta = 0.25 * np.pi * np.sign(A[p,q])  \n",
        "                else:\n",
        "                  theta = 0.5 * np.arctan(2*A[p,q]/(A[q,q] - A[p,p]))\n",
        "\n",
        "                c = np.cos(theta)\n",
        "                s = np.sin(theta)\n",
        "\n",
        "\n",
        "                A1 = np.copy(A)\n",
        "                A1[:, p] = c * A[:, p] - s * A[:, q]\n",
        "                A1[:, q] = c * A[:, q] + s * A[:, p]\n",
        "                A1[p, :] = c * A[p, :] - s * A[q, :]\n",
        "                A1[q, :] = c * A[q, :] + s * A[p, :]\n",
        "                A1[p, p] = A[p,p] * (c**2) - 2 * A[p,q] * s * c + A[q,q] * (s**2)\n",
        "                A1[q, q] = A[q,q] * (c**2) + 2 * A[p,q] * s * c + A[p,p] * (s**2)\n",
        "                A1[p, q] = 0\n",
        "                A1[q, p] = 0\n",
        "\n",
        "                V1 = np.copy(V)\n",
        "                V1[:, p] = c * V[:, p] - s * V[:, q]\n",
        "                V1[:, q] = s * V[:, p] + c * V[:, q]\n",
        "                V = np.copy(V1)\n",
        "\n",
        "                U1 = np.copy(U)\n",
        "                U1[p, :] = c * U[p, :] - s * U[q, :]\n",
        "                U1[q, :] = c * U[q, :] + s * U[p, :]\n",
        "                U = np.copy(U1)\n",
        "\n",
        "                off_A = np.sqrt(off_A**2 - 2 * (A[p,q] ** 2))\n",
        "                A = np.copy(A1)\n",
        "\n",
        "\n",
        "    s = np.diag(A)\n",
        "    U = U.T\n",
        "    VT = V.T\n",
        "    \n",
        "    return U, s, VT"
      ]
    },
    {
      "cell_type": "code",
      "execution_count": null,
      "metadata": {
        "colab": {
          "base_uri": "https://localhost:8080/"
        },
        "id": "QAePJXHcxzjr",
        "outputId": "c516f309-8323-4b30-ab77-7d95255079b3"
      },
      "outputs": [
        {
          "name": "stdout",
          "output_type": "stream",
          "text": [
            "numpy| orthogonal test error ---> 3.115256706561729e-15\n",
            "numpy| correctness test error ---> 2.8188948235920117e-15\n",
            "yours| orthogonal test error ---> 4.33784926191048e-15\n",
            "yours| correctness test error ---> 2.6914472429383646e-08\n",
            "A = \n",
            "[[ 0.653  0.727  0.344  0.589  0.752 -0.697]\n",
            " [ 0.662 -0.642  1.202 -0.42  -0.236 -0.088]\n",
            " [-0.691 -2.049 -0.953 -0.443 -0.053  0.359]\n",
            " [ 0.986 -1.495 -0.464 -0.439 -0.003  0.4  ]\n",
            " [ 0.769 -0.396 -0.043 -1.347  0.78   1.162]\n",
            " [-0.286 -0.376  0.924 -0.431 -0.203  1.64 ]\n",
            " [ 0.192  0.612 -0.007  0.596 -0.236 -1.425]\n",
            " [-1.075  0.261  0.258 -0.643  0.794  0.73 ]]\n",
            "U = \n",
            "[[-0.31  -0.105 -0.316  0.319  0.299 -0.748  0.069 -0.196]\n",
            " [ 0.114 -0.057 -0.539 -0.504  0.583  0.198 -0.24  -0.054]\n",
            " [ 0.475  0.561  0.362 -0.018  0.37  -0.177  0.152 -0.37 ]\n",
            " [ 0.366  0.406 -0.41   0.121 -0.141 -0.208  0.078  0.67 ]\n",
            " [ 0.429 -0.25  -0.376  0.573 -0.026  0.357  0.209 -0.335]\n",
            " [ 0.376 -0.452 -0.003 -0.493 -0.237 -0.336  0.49  -0.055]\n",
            " [-0.419  0.206 -0.078 -0.044  0.228  0.294  0.79   0.111]\n",
            " [ 0.176 -0.444  0.405  0.236  0.554  0.013  0.028  0.495]]\n",
            "my_U = \n",
            "[[-0.31   0.319  0.105  0.748  0.299 -0.316 -0.076 -0.193]\n",
            " [ 0.114 -0.504  0.057 -0.198  0.583 -0.539  0.238 -0.063]\n",
            " [ 0.475 -0.018 -0.561  0.177  0.37   0.362 -0.165 -0.365]\n",
            " [ 0.366  0.121 -0.406  0.208 -0.141 -0.41  -0.054  0.672]\n",
            " [ 0.429  0.573  0.25  -0.357 -0.026 -0.376 -0.221 -0.327]\n",
            " [ 0.376 -0.493  0.452  0.336 -0.237 -0.003 -0.492 -0.038]\n",
            " [-0.419 -0.044 -0.206 -0.294  0.228 -0.078 -0.786  0.138]\n",
            " [ 0.176  0.236  0.444 -0.013  0.554  0.405 -0.011  0.496]]\n",
            "s = \n",
            "[3.751 2.51  2.146 1.597 0.983 0.665]\n",
            "my_s = \n",
            "[3.751 1.597 2.51  0.665 0.983 2.146]\n",
            "VT = \n",
            "[[-0.038 -0.624 -0.057 -0.454  0.056  0.63 ]\n",
            " [ 0.144 -0.604 -0.538  0.19  -0.239 -0.481]\n",
            " [-0.911  0.091 -0.369  0.121 -0.038  0.093]\n",
            " [ 0.204  0.253 -0.598 -0.241  0.692 -0.027]\n",
            " [-0.323 -0.326  0.447 -0.258  0.49  -0.532]\n",
            " [-0.041  0.258 -0.117 -0.787 -0.468 -0.283]]\n",
            "my_VT = \n",
            "[[-0.038 -0.624 -0.057 -0.454  0.056  0.63 ]\n",
            " [ 0.204  0.253 -0.598 -0.241  0.692 -0.027]\n",
            " [-0.144  0.604  0.538 -0.19   0.239  0.481]\n",
            " [ 0.041 -0.258  0.117  0.787  0.468  0.283]\n",
            " [-0.323 -0.326  0.447 -0.258  0.49  -0.532]\n",
            " [-0.911  0.091 -0.369  0.121 -0.038  0.093]]\n"
          ]
        },
        {
          "name": "stderr",
          "output_type": "stream",
          "text": [
            "/usr/local/lib/python3.7/dist-packages/ipykernel_launcher.py:167: RuntimeWarning: invalid value encountered in sqrt\n"
          ]
        }
      ],
      "source": [
        "# evaluate\n",
        "m, n = 8, 6\n",
        "A = np.random.randn(m,n)\n",
        "\n",
        "# numpy code\n",
        "U, s, VT = np.linalg.svd(A.copy())\n",
        "S = np.zeros((m,n)); S[[range(min(m,n))],[range(min(m,n))]] = s\n",
        "print(f'numpy| orthogonal test error ---> {np.linalg.norm(np.eye(m) - U @ U.T) + np.linalg.norm(np.eye(n) - VT @ VT.T)}')\n",
        "print(f'numpy| correctness test error ---> {np.linalg.norm(A - U @ S @ VT)}')\n",
        "\n",
        "# your code\n",
        "my_U, my_s, my_VT  = my_svd(A.copy())\n",
        "my_S = np.zeros((m,n)); my_S[[range(min(m,n))],[range(min(m,n))]] = my_s\n",
        "print(f'yours| orthogonal test error ---> {np.linalg.norm(np.eye(m) - my_U @ my_U.T) + np.linalg.norm(np.eye(n) - my_VT @ my_VT.T)}')\n",
        "print(f'yours| correctness test error ---> {np.linalg.norm(A - my_U @ my_S @ my_VT)}')\n",
        "\n",
        "# print\n",
        "print(f'A = \\n{np.around(A, 3)}')\n",
        "print(f'U = \\n{np.around(U, 3)}')\n",
        "print(f'my_U = \\n{np.around(my_U, 3)}')\n",
        "print(f's = \\n{np.around(s, 3)}')\n",
        "print(f'my_s = \\n{np.around(my_s, 3)}')\n",
        "print(f'VT = \\n{np.around(VT, 3)}')\n",
        "print(f'my_VT = \\n{np.around(my_VT, 3)}')"
      ]
    },
    {
      "cell_type": "markdown",
      "metadata": {
        "id": "HbZ3RFOVxzjs"
      },
      "source": [
        "**Your answer: ```TODO ```**"
      ]
    },
    {
      "cell_type": "code",
      "execution_count": null,
      "metadata": {
        "colab": {
          "base_uri": "https://localhost:8080/"
        },
        "id": "XMOYGZLexzjs",
        "outputId": "35c82a36-6387-43ab-d0de-106a2a7efbe1"
      },
      "outputs": [
        {
          "name": "stderr",
          "output_type": "stream",
          "text": [
            "/usr/local/lib/python3.7/dist-packages/ipykernel_launcher.py:127: RuntimeWarning: invalid value encountered in sqrt\n",
            "/usr/local/lib/python3.7/dist-packages/ipykernel_launcher.py:80: RuntimeWarning: invalid value encountered in sqrt\n",
            "/usr/local/lib/python3.7/dist-packages/ipykernel_launcher.py:37: RuntimeWarning: invalid value encountered in sqrt\n",
            "/usr/local/lib/python3.7/dist-packages/ipykernel_launcher.py:209: RuntimeWarning: invalid value encountered in sqrt\n",
            "/usr/local/lib/python3.7/dist-packages/ipykernel_launcher.py:167: RuntimeWarning: invalid value encountered in sqrt\n",
            "/usr/local/lib/python3.7/dist-packages/ipykernel_launcher.py:252: RuntimeWarning: invalid value encountered in sqrt\n"
          ]
        },
        {
          "name": "stdout",
          "output_type": "stream",
          "text": [
            "numpy| test ---> {'time': 0.002054469585418701, 'orthogonal test error': 2.0518152847060588e-14, 'correctness test error': 9.403962289777414e-14}\n",
            "yours| test ---> {'time': 0.8002516531944275, 'orthogonal test error': 3.249453897617096e-14, 'correctness test error': 7.271635266738278e-07}\n",
            "yours| check ---> {'time': True, 'orthogonal test error': True, 'correctness test error': True}\n"
          ]
        }
      ],
      "source": [
        "# time and correctness test\n",
        "numpy_test = {'time': 0.0, 'orthogonal test error':0.0, 'correctness test error':0.0}\n",
        "yours_test = {'time': 0.0, 'orthogonal test error':0.0, 'correctness test error':0.0}\n",
        "\n",
        "num_test = 100\n",
        "for i in range(num_test):\n",
        "    m, n = np.random.randint(40, 50), np.random.randint(40, 50)\n",
        "    A = np.random.randn(m,n)\n",
        "\n",
        "    # numpy code\n",
        "    start_time = time.time()\n",
        "    U, s, VT = np.linalg.svd(A.copy())\n",
        "    S = np.zeros((m,n)); S[[range(min(m,n))],[range(min(m,n))]] = s\n",
        "    \n",
        "    numpy_test['time'] += time.time() - start_time\n",
        "    numpy_test['orthogonal test error'] += np.linalg.norm(np.eye(m) - U @ U.T) + np.linalg.norm(np.eye(n) - VT @ VT.T)\n",
        "    numpy_test['correctness test error'] += np.linalg.norm(A - U @ S @ VT)\n",
        "\n",
        "    # your code\n",
        "    start_time = time.time()\n",
        "    my_U, my_s, my_VT  = my_svd(A.copy())\n",
        "    my_S = np.zeros((m,n)); my_S[[range(min(m,n))],[range(min(m,n))]] = my_s\n",
        "    \n",
        "    yours_test['time'] += time.time() - start_time\n",
        "    yours_test['orthogonal test error'] += np.linalg.norm(np.eye(m) - my_U @ my_U.T) + np.linalg.norm(np.eye(n) - my_VT @ my_VT.T)\n",
        "    yours_test['correctness test error'] += np.linalg.norm(A - my_U @ my_S @ my_VT)\n",
        "\n",
        "for name in numpy_test:\n",
        "    numpy_test[name] /= num_test\n",
        "    yours_test[name] /= num_test\n",
        "\n",
        "yours_check = {'time': yours_test['time'] <= 1.0, \n",
        "               'orthogonal test error': yours_test['orthogonal test error'] <= 1e-5, \n",
        "               'correctness test error': yours_test['correctness test error'] <= 1e-5}\n",
        "\n",
        "print(f'numpy| test ---> {numpy_test}')\n",
        "print(f'yours| test ---> {yours_test}')\n",
        "print(f'yours| check ---> {yours_check}')"
      ]
    },
    {
      "cell_type": "markdown",
      "metadata": {
        "id": "jKJxkrpYxzjt"
      },
      "source": [
        "## 3. Cholesky\n",
        "\n",
        "$$A \\in \\mathbb{R}^{n\\times n} \\text{ is a symmetric positive definite matrix} \\iff \\exists \\text{ a lower-triangular matrix } G: A = G G^\\top$$"
      ]
    },
    {
      "cell_type": "markdown",
      "metadata": {
        "id": "wOdBY7IKxzjt"
      },
      "source": [
        "<div dir=\"rtl\"> <font size=\"4\" face=\"HM XNiloofar\">\n",
        "به کمک تبدیل‌های گوسی الگوریتم عددی برای محاسبه تجزیه Cholesky  پیاده‌سازی کنید.\n",
        "</font> </div>\n",
        "\n",
        "```python\n",
        "G = my_cholesky(A)\n",
        "```\n",
        "\n",
        "<div dir=\"rtl\"> <font size=\"4\" face=\"HM XNiloofar\"> \n",
        " ورودی یک ماتریس متقارن مثبت معین دلخواه و خروجی فاکتور Cholesky   است. \n",
        "<br />\n",
        "Cell مربوط به ارزیابی کد را اجرا کنید. خروجی الگوریتم خود را با خروجی تابع numpy مقایسه کنید. درباره‌ی تفاوت‌ها توضیح دهید.\n",
        "<br />\n",
        "Cell تست زمان و صحت را جهت ارزیابی کارایی الگوریتم خود اجرا کنید.\n",
        "</font> </div>"
      ]
    },
    {
      "cell_type": "code",
      "execution_count": null,
      "metadata": {
        "id": "DjXSzFr5xzju"
      },
      "outputs": [],
      "source": [
        "from numpy import zeros_like"
      ]
    },
    {
      "cell_type": "code",
      "execution_count": null,
      "metadata": {
        "id": "S7ayZvyTxzjv"
      },
      "outputs": [],
      "source": [
        "def cholesky_decomposition(A):\n",
        "\n",
        "    R = zeros_like(A)\n",
        "\n",
        "    for k in range(A.shape[0]):\n",
        "        R[k, k] = sqrt(A[k, k])\n",
        "        R[k, k + 1:] = A[k, k + 1:] / R[k, k]\n",
        "        for j in range(k + 1, n):\n",
        "            A[j, j:] = A[j, j:] - R[k, j] * R[k, j:]\n",
        "\n",
        "    return R.T"
      ]
    },
    {
      "cell_type": "code",
      "execution_count": null,
      "metadata": {
        "colab": {
          "base_uri": "https://localhost:8080/"
        },
        "id": "vCDOGlURxzjv",
        "outputId": "e5890da5-0f32-47fc-8f67-15123c30dbbb"
      },
      "outputs": [
        {
          "name": "stdout",
          "output_type": "stream",
          "text": [
            "numpy| lower-triangular test error ---> 0.0\n",
            "numpy| correctness test error ---> 3.884621865961463e-15\n",
            "yours| lower-triangular test error ---> 0.0\n",
            "yours| correctness test error ---> 3.4343879959403768e-15\n",
            "A = \n",
            "[[ 4.132 -0.701  0.863  1.152 -2.481 -4.8    3.325  1.959]\n",
            " [-0.701  2.002 -1.232 -1.068  2.645 -0.157 -3.193 -1.152]\n",
            " [ 0.863 -1.232 10.809  5.861 -4.462 -0.981  6.673  3.002]\n",
            " [ 1.152 -1.068  5.861  4.922 -5.243 -1.243  5.354  1.719]\n",
            " [-2.481  2.645 -4.462 -5.243 12.125 -0.047 -9.238 -3.221]\n",
            " [-4.8   -0.157 -0.981 -1.243 -0.047 11.408  0.949 -2.268]\n",
            " [ 3.325 -3.193  6.673  5.354 -9.238  0.949 12.553  3.913]\n",
            " [ 1.959 -1.152  3.002  1.719 -3.221 -2.268  3.913  2.589]]\n",
            "G = \n",
            "[[ 2.033  0.     0.     0.     0.     0.     0.     0.   ]\n",
            " [-0.345  1.372  0.     0.     0.     0.     0.     0.   ]\n",
            " [ 0.425 -0.791  3.163  0.     0.     0.     0.     0.   ]\n",
            " [ 0.567 -0.636  1.618  1.256  0.     0.     0.     0.   ]\n",
            " [-1.22   1.621 -0.841 -1.719  2.085  0.     0.     0.   ]\n",
            " [-2.361 -0.708 -0.17  -0.063 -0.975  2.085  0.     0.   ]\n",
            " [ 1.636 -1.915  1.411  0.737 -0.807  1.417  1.007  0.   ]\n",
            " [ 0.964 -0.597  0.67  -0.232 -0.437 -0.356  0.565  0.405]]\n",
            "my_G = \n",
            "[[ 2.033  0.     0.     0.     0.     0.     0.     0.   ]\n",
            " [-0.345  1.372  0.     0.     0.     0.     0.     0.   ]\n",
            " [ 0.425 -0.791  3.163  0.     0.     0.     0.     0.   ]\n",
            " [ 0.567 -0.636  1.618  1.256  0.     0.     0.     0.   ]\n",
            " [-1.22   1.621 -0.841 -1.719  2.085  0.     0.     0.   ]\n",
            " [-2.361 -0.708 -0.17  -0.063 -0.975  2.085  0.     0.   ]\n",
            " [ 1.636 -1.915  1.411  0.737 -0.807  1.417  1.007  0.   ]\n",
            " [ 0.964 -0.597  0.67  -0.232 -0.437 -0.356  0.565  0.405]]\n"
          ]
        }
      ],
      "source": [
        "# evaluate\n",
        "n = 8\n",
        "A = np.random.randn(n,n)\n",
        "A = A @ np.diag(np.random.rand(n)) @ A.T\n",
        "\n",
        "# numpy code\n",
        "G = np.linalg.cholesky(A.copy())\n",
        "print(f'numpy| lower-triangular test error ---> {np.linalg.norm(np.triu(G,1))}')\n",
        "print(f'numpy| correctness test error ---> {np.linalg.norm(A - G @ G.T)}')\n",
        "\n",
        "# your code\n",
        "#my_G = my_cholesky(A.copy())\n",
        "my_G = cholesky_decomposition(A.copy())\n",
        "print(f'yours| lower-triangular test error ---> {np.linalg.norm(np.triu(my_G,1))}')\n",
        "print(f'yours| correctness test error ---> {np.linalg.norm(A - my_G @ my_G.T)}')\n",
        "\n",
        "# print\n",
        "print(f'A = \\n{np.around(A, 3)}')\n",
        "print(f'G = \\n{np.around(G, 3)}')\n",
        "print(f'my_G = \\n{np.around(my_G, 3)}')"
      ]
    },
    {
      "cell_type": "markdown",
      "metadata": {
        "id": "mRaJYY4jxzjw"
      },
      "source": [
        "**Your answer: ```TODO ```**"
      ]
    },
    {
      "cell_type": "code",
      "execution_count": null,
      "metadata": {
        "colab": {
          "base_uri": "https://localhost:8080/"
        },
        "id": "_j7eJK-Yxzjw",
        "outputId": "551e32cb-76cf-447a-b922-72883318b890"
      },
      "outputs": [
        {
          "name": "stdout",
          "output_type": "stream",
          "text": [
            "numpy| test ---> {'time': 6.12187385559082e-05, 'lower-triangular test error': 0.0, 'correctness test error': 3.546069077700698e-14}\n",
            "yours| test ---> {'time': 0.004130251407623291, 'lower-triangular test error': 0.0, 'correctness test error': 4.6345957525571865e-14}\n",
            "yours| check ---> {'time': True, 'lower-triangular test error': True, 'correctness test error': True}\n"
          ]
        }
      ],
      "source": [
        "# time and correctness test\n",
        "numpy_test = {'time': 0.0, 'lower-triangular test error':0.0, 'correctness test error':0.0}\n",
        "yours_test = {'time': 0.0, 'lower-triangular test error':0.0, 'correctness test error':0.0}\n",
        "\n",
        "num_test = 100\n",
        "for i in range(num_test):\n",
        "    n = np.random.randint(40, 50)\n",
        "    A = np.random.randn(n,n)\n",
        "    A = A @ np.diag(np.random.rand(n)) @ A.T\n",
        "\n",
        "    # numpy code\n",
        "    start_time = time.time()\n",
        "    G = np.linalg.cholesky(A.copy())\n",
        "    \n",
        "    numpy_test['time'] += time.time() - start_time\n",
        "    numpy_test['lower-triangular test error'] += np.linalg.norm(np.triu(G,1))\n",
        "    numpy_test['correctness test error'] += np.linalg.norm(A - G @ G.T)\n",
        "\n",
        "    # your code\n",
        "    start_time = time.time()\n",
        "    #my_G = my_cholesky(A.copy())\n",
        "    my_G = cholesky_decomposition(A.copy())\n",
        "    \n",
        "    \n",
        "    yours_test['time'] += time.time() - start_time\n",
        "    yours_test['lower-triangular test error'] += np.linalg.norm(np.triu(my_G,1))\n",
        "    yours_test['correctness test error'] += np.linalg.norm(A - my_G @ my_G.T)\n",
        "\n",
        "for name in numpy_test:\n",
        "    numpy_test[name] /= num_test\n",
        "    yours_test[name] /= num_test\n",
        "\n",
        "yours_check = {'time': yours_test['time'] <= 0.01, \n",
        "               'lower-triangular test error': yours_test['lower-triangular test error'] <= 1e-5, \n",
        "               'correctness test error': yours_test['correctness test error'] <= 1e-5}\n",
        "\n",
        "print(f'numpy| test ---> {numpy_test}')\n",
        "print(f'yours| test ---> {yours_test}')\n",
        "print(f'yours| check ---> {yours_check}')"
      ]
    },
    {
      "cell_type": "markdown",
      "metadata": {
        "id": "FCXe9MLTxzjx"
      },
      "source": [
        "## 4. QR\n",
        "\n",
        "$$A \\in \\mathbb{R}^{m\\times n} \\text{ is a matrix} \\iff \\exists \\text{ an orthogonal matrix } Q \\text{ and an upper-triangular matrix } R: A = QR$$"
      ]
    },
    {
      "cell_type": "markdown",
      "metadata": {
        "id": "_n3dNyW4xzjy"
      },
      "source": [
        "<div dir=\"rtl\"> <font size=\"4\" face=\"HM XNiloofar\">\n",
        "به کمک تبدیل‌های householder الگوریتم عددی برای محاسبه تجزیه QR  پیاده‌سازی کنید.\n",
        "</font> </div>\n",
        "\n",
        "```python\n",
        "Q, R = my_qr(A)\n",
        "```\n",
        "\n",
        "<div dir=\"rtl\"> <font size=\"4\" face=\"HM XNiloofar\"> \n",
        " ورودی یک ماتریس دلخواه و خروجی ماتریس مربعی متعامد و ماتریس بالا مثلثی در تجزیه QR   است. \n",
        "<br />\n",
        "Cell مربوط به ارزیابی کد را اجرا کنید. خروجی الگوریتم خود را با خروجی تابع numpy مقایسه کنید. درباره‌ی تفاوت‌ها توضیح دهید.\n",
        "<br />\n",
        "Cell تست زمان و صحت را جهت ارزیابی کارایی الگوریتم خود اجرا کنید.\n",
        "</font> </div>"
      ]
    },
    {
      "cell_type": "code",
      "execution_count": null,
      "metadata": {
        "id": "G00OEQHFxzjy"
      },
      "outputs": [],
      "source": [
        "def householder_transformation(v):\n",
        "\n",
        "    e1 = np.zeros_like(v)\n",
        "    e1[0, 0] = 1\n",
        "    vector = np.linalg.norm(v,ord = 'fro') * e1\n",
        "    if v[0, 0] < 0:\n",
        "        vector = - vector\n",
        "    u = (v + vector).astype(np.float32)\n",
        "    H = np.identity(v.shape[1]) - ((2 * np.matmul(np.transpose(u), u)) / np.matmul(u, np.transpose(u)))\n",
        "    return H\n",
        "\n",
        "def qr_step_factorization(q, r, iter, n):\n",
        "\n",
        "    v = r[iter:, iter]\n",
        "    v.shape = (1, v.shape[0])\n",
        "    Hbar = householder_transformation(v)\n",
        "    H = np.identity(n)\n",
        "    H[iter:, iter:] = Hbar\n",
        "    r = np.matmul(H, r)\n",
        "    q = np.matmul(q, H)\n",
        "    return q, r\n",
        "\n",
        "def my_qr(A):\n",
        "    \n",
        "    n = A.shape[0]\n",
        "    m = A.shape[1]\n",
        "    \n",
        "    Q = np.identity(n)\n",
        "    R  = A\n",
        "    \n",
        "    for i in range(min(n, m)):\n",
        "        Q, R = qr_step_factorization(Q, R, i, n)\n",
        "    \n",
        "    return Q,R\n",
        "\n"
      ]
    },
    {
      "cell_type": "code",
      "execution_count": null,
      "metadata": {
        "id": "-atF5kksxzjz",
        "outputId": "22e6a33c-50c9-4fa6-cce3-9cf5f50b99f6"
      },
      "outputs": [
        {
          "name": "stdout",
          "output_type": "stream",
          "text": [
            "numpy| upper-triangular and  orthogonal test error ---> 9.76872696600192e-16\n",
            "numpy| correctness test error ---> 1.2699941252835704e-15\n",
            "yours| upper-triangular and  orthogonal test error ---> 3.002568623709822e-06\n",
            "yours| correctness test error ---> 4.680114277429006e-06\n",
            "A = \n",
            "[[ 1.038 -0.092 -1.334  0.285 -0.281 -0.267]\n",
            " [-1.044  0.014  0.479  0.324  1.531  0.161]\n",
            " [ 1.226 -0.881  0.133 -0.441 -2.756  0.646]\n",
            " [-0.159 -1.53  -0.909  0.625 -0.913  0.139]\n",
            " [-0.785  0.291  0.288  0.405 -0.009  0.302]\n",
            " [ 0.044  1.002 -0.645  0.725  1.032  0.114]\n",
            " [-0.261  0.334  0.231  1.764  0.195 -0.211]\n",
            " [ 1.04   0.106  1.052  0.175 -0.22  -1.019]]\n",
            "Q = \n",
            "[[-0.444  0.058  0.588 -0.12   0.213  0.047  0.483  0.397]\n",
            " [ 0.447 -0.098 -0.18  -0.098  0.445 -0.635  0.231  0.306]\n",
            " [-0.524 -0.312 -0.217 -0.015 -0.506 -0.563  0.028  0.08 ]\n",
            " [ 0.068 -0.77   0.294 -0.343  0.146  0.115 -0.402  0.048]\n",
            " [ 0.336  0.065 -0.071 -0.119 -0.511  0.244 -0.046  0.736]\n",
            " [-0.019  0.499  0.415 -0.199 -0.037 -0.404 -0.611  0.042]\n",
            " [ 0.112  0.139 -0.065 -0.843 -0.203  0.018  0.318 -0.333]\n",
            " [-0.445  0.156 -0.554 -0.306  0.418  0.201 -0.275  0.293]]\n",
            "my_Q = \n",
            "[[-0.444  0.058  0.588 -0.12   0.213  0.047  0.483  0.397]\n",
            " [ 0.447 -0.098 -0.18  -0.098  0.445 -0.635  0.231  0.306]\n",
            " [-0.524 -0.312 -0.217 -0.015 -0.506 -0.563  0.028  0.08 ]\n",
            " [ 0.068 -0.77   0.294 -0.343  0.146  0.115 -0.402  0.048]\n",
            " [ 0.336  0.065 -0.071 -0.119 -0.511  0.244 -0.046  0.736]\n",
            " [-0.019  0.499  0.415 -0.199 -0.037 -0.404 -0.611  0.042]\n",
            " [ 0.112  0.139 -0.065 -0.843 -0.203  0.018  0.318 -0.333]\n",
            " [-0.445  0.156 -0.554 -0.306  0.418  0.202 -0.275  0.293]]\n",
            "R = \n",
            "[[-2.337  0.474  0.341  0.533  2.289  0.391]\n",
            " [ 0.     2.028  0.427  0.301  1.904 -0.451]\n",
            " [ 0.     0.    -2.052  0.449  0.427  0.319]\n",
            " [ 0.     0.     0.    -2.007 -0.062  0.39 ]\n",
            " [ 0.     0.     0.     0.     1.718 -0.834]\n",
            " [ 0.     0.     0.     0.     0.    -0.644]\n",
            " [ 0.     0.     0.     0.     0.     0.   ]\n",
            " [ 0.     0.     0.     0.     0.     0.   ]]\n",
            "my_R = \n",
            "[[-2.337  0.474  0.341  0.533  2.289  0.391]\n",
            " [-0.     2.028  0.427  0.301  1.904 -0.451]\n",
            " [-0.    -0.    -2.052  0.449  0.427  0.319]\n",
            " [-0.     0.     0.    -2.007 -0.062  0.39 ]\n",
            " [ 0.    -0.    -0.     0.     1.718 -0.834]\n",
            " [-0.    -0.     0.    -0.    -0.    -0.644]\n",
            " [-0.    -0.     0.    -0.    -0.    -0.   ]\n",
            " [ 0.    -0.    -0.     0.    -0.     0.   ]]\n"
          ]
        }
      ],
      "source": [
        "# evaluate\n",
        "m ,n = 8, 6\n",
        "A = np.random.randn(m,n)\n",
        "\n",
        "# numpy code\n",
        "Q, R = np.linalg.qr(A.copy(), mode='complete')\n",
        "print(f'numpy| upper-triangular and  orthogonal test error ---> {np.linalg.norm(np.tril(R,-1)) + np.linalg.norm(np.eye(m) - Q @ Q.T)}')\n",
        "print(f'numpy| correctness test error ---> {np.linalg.norm(A - Q @ R)}')\n",
        "\n",
        "# your code\n",
        "my_Q, my_R = my_qr(A.copy())\n",
        "my_R = np.around(my_R, decimals=6)\n",
        "my_Q = np.around(my_Q, decimals=6)\n",
        "print(f'yours| upper-triangular and  orthogonal test error ---> {np.linalg.norm(np.tril(my_R,-1)) + np.linalg.norm(np.eye(m) - my_Q @ my_Q.T)}')\n",
        "print(f'yours| correctness test error ---> {np.linalg.norm(A - my_Q @ my_R)}')\n",
        "\n",
        "# print\n",
        "print(f'A = \\n{np.around(A, 3)}')\n",
        "print(f'Q = \\n{np.around(Q, 3)}')\n",
        "print(f'my_Q = \\n{np.around(my_Q, 3)}')\n",
        "print(f'R = \\n{np.around(R, 3)}')\n",
        "print(f'my_R = \\n{np.around(my_R, 3)}')"
      ]
    },
    {
      "cell_type": "markdown",
      "metadata": {
        "id": "RjITpw2ixzj1"
      },
      "source": [
        "**Your answer: ```TODO ```**"
      ]
    },
    {
      "cell_type": "code",
      "execution_count": null,
      "metadata": {
        "id": "X8IKDE_9xzj1",
        "outputId": "b74eb3e3-4f7f-4e41-d542-48513edf1f9c"
      },
      "outputs": [
        {
          "name": "stdout",
          "output_type": "stream",
          "text": [
            "numpy| test ---> {'time': 0.000219573974609375, 'upper-triangular and  orthogonal test error': 4.070024416355694e-15, 'correctness test error': 2.13447957826521e-14}\n",
            "yours| test ---> {'time': 0.004168241024017334, 'upper-triangular and  orthogonal test error': 3.2513824238738235e-06, 'correctness test error': 8.201273776469819e-06}\n",
            "yours| check ---> {'time': True, 'upper-triangular and  orthogonal test error': True, 'correctness test error': True}\n"
          ]
        }
      ],
      "source": [
        "# time and correctness test\n",
        "numpy_test = {'time': 0.0, 'upper-triangular and  orthogonal test error':0.0, 'correctness test error':0.0}\n",
        "yours_test = {'time': 0.0, 'upper-triangular and  orthogonal test error':0.0, 'correctness test error':0.0}\n",
        "\n",
        "num_test = 100\n",
        "for i in range(num_test):\n",
        "    m, n = np.random.randint(40, 50), np.random.randint(40, 50)\n",
        "    A = np.random.randn(m,n)\n",
        "\n",
        "    # numpy code\n",
        "    start_time = time.time()\n",
        "    Q, R = np.linalg.qr(A.copy(), mode='complete')\n",
        "    \n",
        "    numpy_test['time'] += time.time() - start_time\n",
        "    numpy_test['upper-triangular and  orthogonal test error'] += np.linalg.norm(np.tril(R,-1)) + np.linalg.norm(np.eye(m) - Q @ Q.T)\n",
        "    numpy_test['correctness test error'] += np.linalg.norm(A - Q @ R)\n",
        "\n",
        "    # your code\n",
        "    start_time = time.time()\n",
        "    my_Q, my_R = my_qr(A.copy())\n",
        "    \n",
        "    yours_test['time'] += time.time() - start_time\n",
        "    yours_test['upper-triangular and  orthogonal test error'] += np.linalg.norm(np.tril(my_R,-1)) + np.linalg.norm(np.eye(m) - my_Q @ my_Q.T)\n",
        "    yours_test['correctness test error'] += np.linalg.norm(A - my_Q @ my_R)\n",
        "\n",
        "for name in numpy_test:\n",
        "    numpy_test[name] /= num_test\n",
        "    yours_test[name] /= num_test\n",
        "\n",
        "yours_check = {'time': yours_test['time'] <= 0.01, \n",
        "               'upper-triangular and  orthogonal test error': yours_test['upper-triangular and  orthogonal test error'] <= 1e-5, \n",
        "               'correctness test error': yours_test['correctness test error'] <= 1e-5}\n",
        "\n",
        "print(f'numpy| test ---> {numpy_test}')\n",
        "print(f'yours| test ---> {yours_test}')\n",
        "print(f'yours| check ---> {yours_check}')"
      ]
    },
    {
      "cell_type": "markdown",
      "metadata": {
        "id": "59tq3-Cpxzj2"
      },
      "source": [
        "---"
      ]
    },
    {
      "cell_type": "markdown",
      "metadata": {
        "id": "tiTJVyIGxzj2"
      },
      "source": [
        "# B. Dictionary Learning"
      ]
    },
    {
      "cell_type": "code",
      "execution_count": 1,
      "metadata": {
        "id": "Po-e2EgDxzj2"
      },
      "outputs": [],
      "source": [
        "# The allowed libraries\n",
        "from sklearn.feature_extraction.image import extract_patches_2d\n",
        "import numpy as np\n",
        "import matplotlib.pyplot as plt\n",
        "import imageio"
      ]
    },
    {
      "cell_type": "code",
      "execution_count": null,
      "metadata": {
        "collapsed": true,
        "id": "Ws1HeoYBxzj3"
      },
      "outputs": [],
      "source": [
        "!pip install gdown\n",
        "!pip install --upgrade gdown"
      ]
    },
    {
      "cell_type": "code",
      "execution_count": null,
      "metadata": {
        "collapsed": true,
        "id": "jK4vgC0yxzj3"
      },
      "outputs": [],
      "source": [
        "'''\n",
        "Download the necessary files from Google Drive via gdown library (source: https://pypi.org/project/gdown/) \n",
        "\n",
        "Do the following steps:\n",
        "\n",
        "1) Install gdown (if you are using Google Colab, skip this step). \n",
        "In jupyter notebook: run (!pip install gdown) and (!pip install --upgrade gdown)\n",
        "\n",
        "2) Run the following script to download files:\n",
        "'''\n",
        "\n",
        "# EE.png\n",
        "!gdown 12ONag930wZvpmkVQ0JV35qDVFjm9bq4J\n",
        "\n",
        "# EE_noisy.png\n",
        "!gdown 1FH8SYf_IaOWX0fu_buFIfwshrnUUC6CW\n",
        "\n",
        "# random_dictionary_64_121.npy\n",
        "!gdown 195AygBnFlzdBO5ikyc3lkCrxdKK8sSf3"
      ]
    },
    {
      "cell_type": "code",
      "execution_count": 4,
      "metadata": {
        "colab": {
          "base_uri": "https://localhost:8080/",
          "height": 318
        },
        "id": "1RD-TXn-xzj4",
        "outputId": "e192b242-dca6-4e45-caee-f5320909befa"
      },
      "outputs": [
        {
          "output_type": "display_data",
          "data": {
            "text/plain": [
              "<Figure size 720x360 with 2 Axes>"
            ],
            "image/png": "[encoded data removed]"
          },
          "metadata": {
            "needs_background": "light"
          }
        }
      ],
      "source": [
        "image_clean = imageio.imread('EE.png')[:, :].astype('float32')\n",
        "image_noisy = imageio.imread('EE_noisy.png')[:, :].astype('float32')\n",
        "\n",
        "plt.figure(figsize=(10,5))\n",
        "plt.subplot(1, 2, 1)\n",
        "plt.title('clean image')\n",
        "plt.imshow(image_clean, cmap='gray')\n",
        "plt.subplot(1, 2, 2)\n",
        "plt.title('noisy image')\n",
        "plt.imshow(image_noisy, cmap='gray')\n",
        "plt.show()"
      ]
    },
    {
      "cell_type": "markdown",
      "metadata": {
        "id": "QFyhHxo5xzj4"
      },
      "source": [
        "<div dir=\"rtl\"> <font size=\"4\" face=\"HM XNiloofar\">\n",
        "در این بخش از تمرین با استفاده از یادگیری واژه‌نامه، سیستمی به منظور نویززدایی تصاویر مقیاس خاکستری توسعه خواهید داد [1]. \n",
        "</font> </div>\n",
        "\n",
        "[1] Elad, M. and Aharon, M., 2006. Image denoising via sparse and redundant representations over learned dictionaries. IEEE Transactions on Image processing, 15(12), pp.3736-3745.\n",
        "\n",
        "<div dir=\"rtl\"> <font size=\"4\" face=\"HM XNiloofar\">\n",
        "    <br />\n",
        "تصویر مقیاس خاکستری Y را می‌توان به صورت یک ماتریس r×c در نظر گرفت که هر مولفه آن عدد صحیحی در بازه [0,255] اختیار می‌نماید. یکی از نویزهای رایج در تصاویر، نویز گاوسی جمع‌شونده است که در نتیجه آن تصویر نویزی Y_n=Y+N در اختیار شما قرار می‌گیرد که N ماتریس نویز است. در سیستم نویززدایی مورد نظر در این تمرین، فرض می‌شود که قطعات هم‌اندازه در تصویر Y با ابعاد p×p از یک مدل تنک تولید شده‌اند. از آنجایی که تصویر اصلی در اختیار شما قرار ندارد، باید با استفاده از قطعات تصویر در Y_n، واژه‌نامه‌ای که قطعات تصویر اصلی از آن تولید شده‌اند را تخمین بزنید. سپس از این واژه‌نامه برای نویززدایی قطعات تصویر Y_n استفاده کنید. به این منظور در ادامه بخش‌های مختلف سیستم را پیاده‌سازی می‌نمایید و در انتها نیز با کنار هم قرار دادن این بخش‌ها، سیستم نهایی پیاده‌سازی خواهد گردید.\n",
        "</font> </div>"
      ]
    },
    {
      "cell_type": "markdown",
      "metadata": {
        "id": "TVB9VKtTxzj5"
      },
      "source": [
        "## 1. Create dataset"
      ]
    },
    {
      "cell_type": "markdown",
      "metadata": {
        "id": "QuitcJw5xzj5"
      },
      "source": [
        "\n",
        "\n",
        "```\n",
        "# This is formatted as code\n",
        "```\n",
        "\n",
        "<div dir=\"rtl\"> <font size=\"4\" face=\"HM XNiloofar\">\n",
        "    <b>\n",
        "    ساخت پایگاه داده یادگیری واژه‌نامه:\n",
        "    </b>\n",
        "    <br />\n",
        "        در این گام باید تابع <code>create_dataset</code> را پیاده‌سازی نمایید. ورودی‌های این تابع عبارتند از: \n",
        "<ul>\n",
        "  <li> <code>image_noisy</code>:\tتصویر نویزی با ابعاد r×c که هر مولفه آن عدد صحیحی در بازه [0,255] است و نوع آن <code>float32</code> است.</li>\n",
        "  <li> <code>p</code>: طول قطعات تصویر.</li>\n",
        "</ul>\n",
        " خروجی این تابع عبارتست از:\n",
        "<ul>\n",
        "<li><code>dataset</code>: \tپایگاه داده که یک ماتریس با ابعاد p^2×((r-p+1)(c-p+1)) است. هر ستون یکی از قطعات تصویر است که برداری شده است. از آنجایی که سایز تصویر r×c است و طول قطعات برابر با p است، در نتیجه در کل تصویر نویزی (r-p+1)(c-p+1) قطعه خواهیم داشت. هر قطعه نیز یک ماتریس مربعی p×p  است که با برداری‌سازی آن، برداری به طول p^2 خواهیم داشت . </li>\n",
        "</ul>\n",
        " به منظور درستی پیاده‌سازی، به نکات زیر توجه نمایید.\n",
        " <ul>\n",
        "  <li>\tقطعه اول تصویر زیر ماتریس <code>image_noisy[0:8,0:8]</code> و قطعه دوم <code>image_noisy[0:8,1:9]</code> می‌باشد. یعنی قطعات به صورت سطری جلو می‌روند. </li>\n",
        "  <li>\tبرای برداری‌سازی قطعات تصویر، سطرها را به صورت بردار عمودی در آورده و به ترتیب زیر هم قرار دهید تا یکی از ستون‌های ماتریس <code>dataset</code> را بسازد.</li>\n",
        "     <li> \tبرای پیاده‌سازی بهینه از تابع <code>extract_patches_2d</code> بهره ببرید. </li>\n",
        "</ul>\n",
        "</font> </div>"
      ]
    },
    {
      "cell_type": "code",
      "execution_count": 5,
      "metadata": {
        "id": "cA0gbRExxzj6"
      },
      "outputs": [],
      "source": [
        "from sklearn.feature_extraction import image\n",
        "from sklearn.datasets import load_sample_image\n",
        "from scipy import linalg"
      ]
    },
    {
      "cell_type": "code",
      "execution_count": 6,
      "metadata": {
        "id": "HBsw9o1Fxzj7"
      },
      "outputs": [],
      "source": [
        "def create_dataset(image_noisy, p):\n",
        "    \n",
        "    # TODO\n",
        "    dataset = np.reshape(image.extract_patches_2d(image_noisy,(p,p)),(p**2,-1))\n",
        "    \n",
        "    return dataset"
      ]
    },
    {
      "cell_type": "markdown",
      "metadata": {
        "id": "JlIVDQXnxzj7"
      },
      "source": [
        "## 2. Initialize dictionary\n",
        "\n",
        "<div dir=\"rtl\"> <font size=\"4\" face=\"HM XNiloofar\">\n",
        "    <b>\n",
        "   مقداردهی اولیه واژه‌نامه: \n",
        "    </b>\n",
        "    <br />\n",
        "مقداردهی اولیه واژه‌نامه از مراحلی است که می‌تواند کیفیت نویززدایی را تحت تاثیر قرار دهد. این واژه‌نامه می‌تواند با استفاده از DCT فوق کامل مقداردهی اولیه شود. در این تمرین به منظور ساده‌سازی همراه با سوالات تمرین یک واژه‌نامه نیز در اختیار شما قرار گرفته است که می‌توانید برای تست کار خود از آن استفاده نمایید. شما کافیست تابعی بنویسید که با دریافت آدرس واژه‌نامه، آن را لود کرده و در متغیر <code>init_dictionary</code> قرار داده و به خروجی بدهد. بنابراین ورودی این تابع عبارتست از:   \n",
        "<ul>\n",
        "  <li><code>address</code>:\t\tآدرس واژه‌نامه اولیه </li>\n",
        "</ul>\n",
        " خروجی این تابع عبارتست از:\n",
        "<ul>\n",
        "<li><code>init_dictionary</code>: \t\tواژه‌نامه اولیه </li>\n",
        "</ul>\n",
        "</font> </div>"
      ]
    },
    {
      "cell_type": "code",
      "execution_count": 7,
      "metadata": {
        "id": "rI3ES6nWxzj8"
      },
      "outputs": [],
      "source": [
        "def create_init_dictionary(address):\n",
        "    \n",
        "    # TODO\n",
        "    init_dictionary = np.load(address)\n",
        "    \n",
        "    return init_dictionary"
      ]
    },
    {
      "cell_type": "markdown",
      "metadata": {
        "id": "S-O9pP7Qxzj8"
      },
      "source": [
        "## 3. Learn dictionary\n",
        "\n",
        "<div dir=\"rtl\"> <font size=\"4\" face=\"HM XNiloofar\">\n",
        "    <b>\n",
        "  یادگیری واژه‌نامه: \n",
        "    </b>\n",
        "    <br />در این بخش شما می‌بایست تابع <code>train_dictionary</code> را پیاده‌سازی نمایید. در گام نمایش تنک برای یک بردار دلخواه y_i از مجموعه آموزش می‌بایست نمایش تنک x_i را با حل مساله زیر به دست آورید:\n",
        " </font> </div>   \n",
        "    \n",
        "$$ x_i= \\text{argmin}_x ‖x‖_0    \\text{ subject to }   ‖y_i-Dx‖_2^2/l≤(\\text{sigma}×\\text{noise_gain})^2  $$\n",
        "\n",
        "<div dir=\"rtl\"> <font size=\"4\" face=\"HM XNiloofar\">\n",
        "    <br />\n",
        "که در رابطه فوق D ماتریس واژه‌نامه، <code>sigma</code> تخمین واریانس نویز گاوسی جمع‌شوند، <code>noise_gain</code> بهره نویز و l طول بردار y_i است.\n",
        "<br />   \n",
        "در این تابع برای گام نمایش تنک و به‌روزرسانی واژه‌نامه می‌بایست روش‌های مختلفی را پیاده‌سازی نمایید. برای گام نمایش تنک می‌بایست روش‌های زیر را پیاده‌سازی نمایید:\n",
        "<ul>\n",
        "  <li><code>MP</code>:\tروش جستجوی انطابق </li>\n",
        "  <li><code>OMP</code>:\tروش جستجوی انطابق متعامد </li>\n",
        "  <li><code>BOMP</code>: روش جستجوی انطابق متعامد دسته‌ای [2]</li>\n",
        "</ul>\n",
        "    برای گام به‌روزرسانی واژه‌نامه نیز می‌بایست دور روش زیر پیاده‌سازی شوند:\n",
        "<ul>\n",
        "  <li><code>AKSVD</code>:\t\tتقریب الگوریتم [2] KSVD  </li>\n",
        "  <li><code>MOD</code>:\t\tالگوریتم MOD </li>\n",
        "</ul>  \n",
        "    توجه: در الگوریتم <code>MOD</code> امکان دارد ماتریس XX^T معکوس‌پذیر نباشد. به منظور رفع این مشکل از تنظیم کننده تیخونوف استفاده نمایید و به جای معکوس‌گیری از XX^T  از ماتریس I+XX^T  معکوس بگیرید.\n",
        "<br />     \n",
        "    بنابراین ورودی‌های این تابع عبارتست از:\n",
        "<ul>\n",
        "  <li><code>init_dictionary</code>:\tواژه‌نامه اولیه </li>\n",
        "  <li><code>dataset</code>:\tپایگاه داده </li>\n",
        "  <li><code>iter_num</code>:\tتعداد تکرارهای یادگیری واژه‌نامه </li>\n",
        "  <li><code>sigma</code>:\tتخمین واریانس نویز </li>\n",
        "  <li><code>noise_gain</code>:\tبهره نویز </li>\n",
        "  <li><code>SC_method</code>:\tروش مورد استفاده برای نمایش تنک </li>\n",
        "  <li><code>DL_method</code>:\tروش مورد استفاده برای به‌روزرسانی واژه‌نامه </li>\n",
        "</ul>\n",
        " خروجی‌های این تابع عبارتست از:\n",
        "<ul>\n",
        "  <li><code>final_dictionary</code>:\t\tواژه‌نامه آموزش داده شده </li>\n",
        "  <li><code>X</code>:\t\tنمایش قطعات تصویر پایگاه داده در واژه‌نامه آموزش داده شده \n",
        "</ul>    \n",
        "</font> </div>    \n",
        "    \n",
        "[2] Rubinstein, R., Zibulevsky, M. and Elad, M., 2008. Efficient implementation of the K-SVD algorithm using batch orthogonal matching pursuit (No. CS Technion report CS-2008-08). Computer Science Department, Technion."
      ]
    },
    {
      "cell_type": "code",
      "execution_count": 8,
      "metadata": {
        "id": "SbH2QoGWxzj8"
      },
      "outputs": [],
      "source": [
        "def train_dictionary(init_dictionary, dataset, iter_num, sigma, noise_gain, SC_method, DL_method):\n",
        "    D = init_dictionary\n",
        "    Y = dataset\n",
        "    for iter in range(iter_num):\n",
        "        print('iter %d'%iter)\n",
        "        X = sparse_coding(D, Y, tol=sigma * noise_gain, SC_method=SC_method)\n",
        "        D, X = dictionary_update(D, Y, X, DL_method=DL_method)\n",
        "    final_dictionary = D\n",
        "    return (final_dictionary, X)\n",
        "\n",
        "\n",
        "def sparse_coding(D, Y, tol, SC_method):\n",
        "    if SC_method.upper() == 'MP':\n",
        "        X = MP(D, Y, tol)\n",
        "    elif SC_method.upper() == 'OMP':\n",
        "        X = OMP(D, Y, tol)\n",
        "    elif SC_method.upper() == 'BOMP':\n",
        "        X = BOMP(D, Y, tol)\n",
        "    return X\n",
        "\n",
        "\n",
        "def dictionary_update(D, Y, X, DL_method):\n",
        "    if DL_method.upper() == 'AKSVD':\n",
        "        D, X = AKSVD(D, Y, X)\n",
        "    elif DL_method.upper() == 'MOD':\n",
        "        D, X = MOD(D, Y, X)\n",
        "    return (D, X)\n",
        "\n",
        "\n",
        "def corr(x,y):\n",
        "    return abs(x.dot(y))/np.sqrt((x**2).sum())\n",
        "\n",
        "def MP(D, Y, tol):\n",
        "    \n",
        "    # TODO\n",
        "    L  = D.shape[1]\n",
        "    column = Y.shape[1]\n",
        "    x = np.zeros((L,1))\n",
        "    X = np.zeros(Y.shape)\n",
        "    S = []\n",
        "\n",
        "    for i in range(column):\n",
        "        r = Y[:,i]\n",
        "        while np.linalg.norm(r) > tol:\n",
        "              corrs = np.array([])\n",
        "              for j in range(D.shape[1]):\n",
        "                   C = corr(D[:,j],r)\n",
        "                   corrs = np.concatenate((corrs,C),axis=None)\n",
        "\n",
        "              ind = np.argmax(corrs)\n",
        "\n",
        "              S.append(ind)\n",
        "        \n",
        "              Zj = (D[:,ind].T.dot(r))/(D[:,ind].T.dot(D[:,ind]))\n",
        "\n",
        "              x = x + Zj\n",
        "\n",
        "              q = Zj*D[:,j]\n",
        "              r = r-q\n",
        "        X[:,i] = x\n",
        "    \n",
        "    return X\n",
        "\n",
        "\n",
        "\n",
        "def OMP(D, Y, tol):\n",
        "    \n",
        "    # TODO\n",
        "    L  = D.shape[1]\n",
        "    X = np.zeros(L)\n",
        "    error = Y\n",
        "    S = []\n",
        "\n",
        "    while np.linalg.norm(error) > tol:\n",
        "        \n",
        "        corrs = [ corr(d,error) for d in D.T]\n",
        "        ind = np.argmax(corrs)\n",
        "        S.append(ind)\n",
        "        \n",
        "        Ds = D[:,S]\n",
        "\n",
        "        Xs = np.linalg.inv(Ds.T.dot(Ds)).dot(Ds.T).dot(Y)\n",
        "    \n",
        "        X[S] = Xs\n",
        "        \n",
        "        error = Y-D.dot(X)\n",
        "\n",
        "    return X\n",
        "\n",
        "\n",
        "def BOMP(D, Y, tol):\n",
        "    # TODO\n",
        "    Alpha = np.dot(D.T, Y)\n",
        "    G = np.dot(D.T, D)\n",
        "    func = lambda a: unsparse(*_batch_omp_step(G, a, Y, tol), length=D.shape[1])\n",
        "    X = np.apply_along_axis(func, axis=0, arr=Alpha)   \n",
        "    return X\n",
        "\n",
        "def unsparse(v, idx, length):\n",
        "    x = np.zeros(length)\n",
        "    x[idx] = v\n",
        "    return x\n",
        "\n",
        "def _batch_omp_step(G, alpha_0, Y, tol):\n",
        "    idx = []\n",
        "    L = np.ones((1, 1))\n",
        "    alpha = alpha_0\n",
        "    error = np.dot(Y.T, Y)\n",
        "    n = 0\n",
        "    wnorm = np.zeros((1,100))\n",
        "    \n",
        "    \n",
        "    while error > tol :\n",
        "        lam = np.abs(alpha).argmax()\n",
        "        if n > 0:\n",
        "            w = linalg.solve_triangular(L, G[idx, lam])\n",
        "            L = np.r_[np.c_[L, np.zeros(len(L))],\n",
        "                      np.atleast_2d(np.append(w, np.sqrt(1 - np.inner(w, w))))]\n",
        "        idx.append(lam)\n",
        "        gamma = linalg.solve(np.dot(L, L.T), alpha_0[idx], sym_pos=True) \n",
        "        alpha = alpha_0 - np.dot(G[:, idx], gamma)\n",
        "        \n",
        "        n = n + 1\n",
        "        \n",
        "        wnorm[0,n] = gamma.T*np.dot(G[:, idx], gamma)\n",
        "        error = error + wnorm[0,n-1] - wnorm[0,n]\n",
        "        \n",
        "    return gamma, idx \n",
        "\n",
        "\n",
        "\n",
        "\n",
        "def AKSVD(D, Y, X):\n",
        "    \n",
        "    # TODO\n",
        "    indx = []\n",
        "    D_new = np.zeros(D.shape[0],D.shape[1])\n",
        "    \n",
        "    for i in range(X.shape[0]):\n",
        "        if np.count_nonzero(X[i,:]==0)!=X.shape[1]:\n",
        "             indx  = np.append(indx, i)\n",
        "        \n",
        "        \n",
        "    for i in range(D.shape[1]):\n",
        "            Dp = np.delete(D,i,1)\n",
        "            Xp = np.delete(X,i,0)\n",
        "            Y_h = Y- Dp*Xp\n",
        "            Y_h_js = Y_h[:,indx]\n",
        "            \n",
        "            u,s,vh = np.linalg.svd(Y_h_js)\n",
        "            D_new = u[:,1]\n",
        "            \n",
        "    D = D_new\n",
        "        \n",
        "    return (D, X)\n",
        "\n",
        "\n",
        "\n",
        "\n",
        "def MOD(D, Y, X):\n",
        "    \n",
        "    # TODO\n",
        "    n = X.shape[0]\n",
        "    D = Y*X.T*np.linalg.inv(0.1*np.identity(n)+X.dot(X.T))\n",
        "    \n",
        "    return (D, X)\n",
        "\n"
      ]
    },
    {
      "cell_type": "code",
      "execution_count": null,
      "metadata": {
        "colab": {
          "background_save": true,
          "base_uri": "https://localhost:8080/"
        },
        "id": "fGtIL3Zvxp3_",
        "outputId": "791c1164-d59c-4466-e506-36d04d7c8447"
      },
      "outputs": [
        {
          "output_type": "stream",
          "name": "stdout",
          "text": [
            "iter 0\n"
          ]
        }
      ],
      "source": [
        "image_denoised, image_noisy, D_MP_MOD, X_MP_MOD = DL_denoising('EE_noisy.png', 'random_dictionary_64_121.npy', p=8, iter_num=20, sigma=20, noise_gain=1.075, SC_method='MP', dl_method='MOD', m=0.5)\n",
        "\n",
        "\n"
      ]
    },
    {
      "cell_type": "markdown",
      "metadata": {
        "id": "NV-O_xxkxzkF"
      },
      "source": [
        "## 4. Reconstruct image\n",
        "\n",
        "<div dir=\"rtl\"> <font size=\"4\" face=\"HM XNiloofar\">\n",
        "    <b>\n",
        "بازسازی تصویر: \n",
        "    </b>\n",
        "    <br />\n",
        "    در قسمت قبل شما توانستید نمایش تمام قطعات تصویر در واژه‌نامه نهایی (<code>final_dictionary</code>) را به دست آورید. در این قسمت به‌جای هر قطعه از تصویر، بازسازی شده آن را جایگزین می‌نمایید. فرض کنید x_i نمایش یک قطعه برداری شده از تصویر در واژه‌نامه نهایی (D_f) باشد. در این صورت تخمین بدون نویز از آن قطعه برداری شده را می‌توان به صورت D_f x_i ساخت و با استفاده از عملیات معکوس برداری‌سازی (تبدیل بردارها به قطعات تصویر)، می‌توان تخمینی از قطعه تصویر بدون نویز به دست آورد. از آنجایی که شما تمام قطعات قابل استخراج از تصویر را در قسمت الف در نظر گرفتید، بنابراین هر پیکسل از تصویر در تعدادی از قطعات قرار می‌گیرد (پیکسل‌های مرکزی دقیقا در p^2 قطعه و پیکسل‌های حاشیه‌ای در کمتر از این مقدار قطعه تصویر حضور دارند). به منظور نویززدایی بهتر می‌توان متوسط تمام تخمین‌ها از یک پیکسل را در نظر گرفت. به عبارت دیگر یک ماتریس O و یک ماتریس C صفر در نظر بگیرید. حال هر یک از قطعات نویزدایی شده را با بخشی از ماتریس O که متناظر با آن است جمع نمایید. همزمان به بخش متناظر با قطعه تصویر در ماتریس C نیز یک واحد اضافه کنید. پس از قرار دادن تمام قطعات نویز زدایی شده، اگر ماتریس O را به صورت عنصر به عنصر بر ماتریس C تقسیم نمایید، خروجی مورد نظر به دست می‌آید. \n",
        "    <br />\n",
        "    روال فوق معمولا منجر به بایاس در تصویر حاصل می‌گردد. به منظور کاهش این بایاس نیز ضریبی از تصویر نویزی با خروجی حاصل از الگوریتم فوق ترکیب می‌شود. فرض کنید طبق روال فوق، O و C را به دست آورده‌اید. خروجی نهایی از رابطه زیر به دست خواهد آمد:\n",
        "    <center><code>image_denoised =  (O + m × image_noisy) / (C + m)</code></center>\n",
        "در این گام شما می‌بایست تابع بازسازی تصویر با نام <code>reconstruct_image</code> را پیاده‌سازی نمایید. این تابع ورودی‌های زیر را می‌پذیرد:\n",
        "<ul>\n",
        "  <li><code>final_dictionary</code>:\tواژه‌نامه آموزش داده شده </li>\n",
        "  <li><code>X</code>:   \tنمایش قطعات تصویر پایگاه داده در واژه‌نامه آموزش داده شده </li>\n",
        "  <li><code>image_noisy</code>:   \tتصویر نویزی با ابعاد r×c که هر مولفه آن عددی صحیحی در بازه [0,255] است و نوع آن <code>float32</code> است. </li>\n",
        "  <li><code>p</code>:  \tطول قطعات تصویر</li>\n",
        "   <li><code>m</code>:  \tثابت ترکیب تصویر نویزی</li>\n",
        "</ul>\n",
        " خروجی این تابع عبارتست از:\n",
        "<ul>\n",
        "<li><code>image_denoised</code>:\tتصویر نویززدایی شده با ابعاد r×c که هر مولفه آن عددی صحیحی در بازه [0,255] است و نوع آن <code>float32</code> است.</li>\n",
        "</ul>\n",
        "</font> </div>"
      ]
    },
    {
      "cell_type": "code",
      "execution_count": 9,
      "metadata": {
        "id": "n_Mz9vgNxzkG"
      },
      "outputs": [],
      "source": [
        "def reconstruct_image(final_dictionary, X, image_noisy, p, m):\n",
        "    \n",
        "    # TODO\n",
        "    M1 = np.zeros(image_noisy.shape)\n",
        "    M2 = np.zeros(image_noisy.shape)\n",
        "\n",
        "    M1_patch = image.extract_patches_2d(M1,(p,p))\n",
        "    M2_patch = image.extract_patches_2d(M2,(p,p))\n",
        "\n",
        "    noisy_patch = image.extract_patches_2d(image_noisy,(p,p))\n",
        "\n",
        "    y_final = final_dictionary*X\n",
        "\n",
        "    column = y_final.shape[1]\n",
        "\n",
        "    for i in range(column):\n",
        "\n",
        "      patch = np.reshape(y_final[:,i],(p,p))\n",
        "      M1_patch[i] = M1_patch[i] + (patch + m*noisy_patch)\n",
        "      M2_patch[i] = M2_patch[i] + 1\n",
        "\n",
        "    image_denoised = M1_patch/M2_patch\n",
        "    \n",
        "    return image_denoised"
      ]
    },
    {
      "cell_type": "markdown",
      "metadata": {
        "id": "1ktqGcduxzkG"
      },
      "source": [
        "## 5. Evaluation\n",
        "\n",
        "<div dir=\"rtl\"> <font size=\"4\" face=\"HM XNiloofar\">\n",
        "حال  تمام ماژول‌های مورد نیاز برای ساخت سیستم نویززدایی را در اختیار دارید. تابع <code>DL_denoising</code> سیستم‌ فوق را یکپارچه می‌نماید و خروجی شما را می‌سازد.\n",
        "<br />    \n",
        "به منظور اینکه بتوانید پیاده‌سازی خود را چک نمایید، یک تصویر نویز پاک (<code>EE.png</code>) یک نمونه نویزی شده آن با انحراف معیار 20 (<code>EE_noisy.png</code>) و یک دیکشنری اولیه تصادفی (<code>random_dictionary_64_121.npy</code>) در اختیار شما قرار گرفته است. نتایج حاصل از نویززدایی این تصویر برای حالت‌های مختلف مختلف مشاهده کنید. در هر حالت ماتریس <code>D</code> و <code>X</code> خروجی را در Google Drive آپلود کنید. فایل‌ها را در حالت دسترسی عمومی قرار دهید. ID لینک هر فایل را در محل مربوطه بنویسید. با اجرای cell مربوطه باید هر شخصی بتواند فایل‌ها را دانلود و نتیجه نهایی را بازتولید کند.\n",
        " </font> </div>   "
      ]
    },
    {
      "cell_type": "code",
      "execution_count": 10,
      "metadata": {
        "id": "4q5wg245xzkH"
      },
      "outputs": [],
      "source": [
        "def DL_denoising(address_image_noisy, address_init_dictionary, p, iter_num, sigma, noise_gain, SC_method, dl_method, m):\n",
        "    image_noisy = imageio.imread(address_image_noisy)[:, :].astype('float32')\n",
        "    dataset = create_dataset(image_noisy, p)\n",
        "    D = create_init_dictionary(address_init_dictionary)\n",
        "    D, X = train_dictionary(D, dataset, iter_num, sigma, noise_gain, SC_method, dl_method)\n",
        "    image_denoised = reconstruct_image(D, X, image_noisy, p, m)\n",
        "    return (image_denoised, image_noisy, D, X)\n",
        "\n",
        "def Calculate_PSNR(image1, image2):\n",
        "    mse = np.sum((image1-image2)**2)/np.prod(image1.shape)\n",
        "    return 10*np.log10((255**2)/mse)"
      ]
    },
    {
      "cell_type": "code",
      "execution_count": null,
      "metadata": {
        "id": "xIdj1GpzxzkH"
      },
      "outputs": [],
      "source": [
        "image_denoised, image_noisy, D_MP_MOD, X_MP_MOD = DL_denoising('EE_noisy.png', 'random_dictionary_64_121.npy', p=8, iter_num=20, sigma=20, noise_gain=1.075, SC_method='MP', dl_method='MOD', m=0.5)\n",
        "np.save('D_MP_MOD', D_MP_MOD)\n",
        "np.save('X_MP_MOD', X_MP_MOD)\n",
        "\n",
        "image_denoised, image_noisy, D_OMP_MOD, X_OMP_MOD = DL_denoising('EE_noisy.png', 'random_dictionary_64_121.npy', p=8, iter_num=20, sigma=20, noise_gain=1.075, SC_method='OMP', dl_method='MOD', m=0.5)\n",
        "np.save('D_OMP_MOD', D_OMP_MOD)\n",
        "np.save('X_OMP_MOD', X_OMP_MOD)\n",
        "\n",
        "image_denoised, image_noisy, D_BOMP_MOD, X_BOMP_MOD = DL_denoising('EE_noisy.png', 'random_dictionary_64_121.npy', p=8, iter_num=20, sigma=20, noise_gain=1.075, SC_method='BOMP', dl_method='MOD', m=0.5)\n",
        "np.save('D_BOMP_MOD', D_BOMP_MOD)\n",
        "np.save('X_BOMP_MOD', X_BOMP_MOD)\n",
        "\n",
        "image_denoised, image_noisy, D_MP_AKSVD, X_MP_AKSVD = DL_denoising('EE_noisy.png', 'random_dictionary_64_121.npy', p=8, iter_num=20, sigma=20, noise_gain=1.075, SC_method='MP', dl_method='AKSVD', m=0.5)\n",
        "np.save('D_MP_AKSVD', D_MP_AKSVD)\n",
        "np.save('X_MP_AKSVD', X_MP_AKSVD)\n",
        "\n",
        "image_denoised, image_noisy, D_OMP_AKSVD, X_OMP_AKSVD = DL_denoising('EE_noisy.png', 'random_dictionary_64_121.npy', p=8, iter_num=20, sigma=20, noise_gain=1.075, SC_method='OMP', dl_method='AKSVD', m=0.5)\n",
        "np.save('D_OMP_AKSVD', D_OMP_AKSVD)\n",
        "np.save('X_OMP_AKSVD', X_OMP_AKSVD)\n",
        "\n",
        "image_denoised, image_noisy, D_BOMP_AKSVD, X_BOMP_AKSVD = DL_denoising('EE_noisy.png', 'random_dictionary_64_121.npy', p=8, iter_num=20, sigma=20, noise_gain=1.075, SC_method='BOMP', dl_method='AKSVD', m=0.5)\n",
        "np.save('D_BOMP_AKSVD', D_BOMP_AKSVD)\n",
        "np.save('X_BOMP_AKSVD', X_BOMP_AKSVD)\n",
        "\n",
        "# upload the saved files to Google Drive, then their access to 'Everyone with the link'. \n"
      ]
    },
    {
      "cell_type": "code",
      "execution_count": null,
      "metadata": {
        "id": "lAv2XzerxzkI"
      },
      "outputs": [],
      "source": [
        "plt.figure(figsize=(10,20))\n",
        "\n",
        "plt.subplot(4, 2, 1)\n",
        "plt.title('image_clean')\n",
        "plt.imshow(image_clean, cmap='gray')\n",
        "\n",
        "psnr = Calculate_PSNR(image_clean, image_noisy)\n",
        "print('\\n image_noisy')\n",
        "print(psnr)\n",
        "print(psnr >= 24)\n",
        "plt.subplot(4, 2, 2)\n",
        "plt.title('image_noisy ' + str(np.around(psnr, 3)))\n",
        "plt.imshow(image_noisy, cmap='gray')\n",
        "\n",
        "p = 8\n",
        "m = 0.5\n",
        "\n",
        "# --------------- MP_MOD --------------- #\n",
        "# download D\n",
        "!gdown # TODO\n",
        "# download X\n",
        "!gdown # TODO\n",
        "\n",
        "D = np.load('D_MP_MOD.npy')\n",
        "X = np.load('X_MP_MOD.npy')\n",
        "image_denoised = reconstruct_image(D, X, image_noisy, p, m)\n",
        "psnr = Calculate_PSNR(image_clean, image_denoised)\n",
        "print('\\n MP+MOD')\n",
        "print(psnr)\n",
        "print(psnr >= 24)\n",
        "plt.subplot(4, 2, 3)\n",
        "plt.title('MP+MOD ' + str(np.around(psnr, 3)))\n",
        "plt.imshow(image_denoised, cmap='gray')\n",
        "\n",
        "# --------------- OMP_MOD --------------- #\n",
        "# download D\n",
        "!gdown # TODO\n",
        "# download X\n",
        "!gdown # TODO\n",
        "\n",
        "D = np.load('D_OMP_MOD.npy')\n",
        "X = np.load('X_OMP_MOD.npy')\n",
        "image_denoised = reconstruct_image(D, X, image_noisy, p, m)\n",
        "psnr = Calculate_PSNR(image_clean, image_denoised)\n",
        "print('\\n OMP+MOD')\n",
        "print(psnr)\n",
        "print(psnr >= 24)\n",
        "plt.subplot(4, 2, 4)\n",
        "plt.title('OMP+MOD ' + str(np.around(psnr, 3)))\n",
        "plt.imshow(image_denoised, cmap='gray')\n",
        "\n",
        "# --------------- BOMP_MOD --------------- #\n",
        "# download D\n",
        "!gdown # TODO\n",
        "# download X\n",
        "!gdown # TODO\n",
        "\n",
        "D = np.load('D_BOMP_MOD.npy')\n",
        "X = np.load('X_BOMP_MOD.npy')\n",
        "image_denoised = reconstruct_image(D, X, image_noisy, p, m)\n",
        "psnr = Calculate_PSNR(image_clean, image_denoised)\n",
        "print('\\n BOMP+MOD')\n",
        "print(psnr)\n",
        "print(psnr >= 24)\n",
        "plt.subplot(4, 2, 5)\n",
        "plt.title('BOMP+MOD ' + str(np.around(psnr, 3)))\n",
        "plt.imshow(image_denoised, cmap='gray')\n",
        "\n",
        "\n",
        "# --------------- MP_AKSVD --------------- #\n",
        "# download D\n",
        "!gdown # TODO\n",
        "# download X\n",
        "!gdown # TODO\n",
        "\n",
        "D = np.load('D_MP_AKSVD.npy')\n",
        "X = np.load('X_MP_AKSVD.npy')\n",
        "image_denoised = reconstruct_image(D, X, image_noisy, p, m)\n",
        "psnr = Calculate_PSNR(image_clean, image_denoised)\n",
        "print('\\n MP+AKSVD')\n",
        "print(psnr)\n",
        "print(psnr >= 24)\n",
        "plt.subplot(4, 2, 6)\n",
        "plt.title('MP+AKSVD ' + str(np.around(psnr, 3)))\n",
        "plt.imshow(image_denoised, cmap='gray')\n",
        "\n",
        "# --------------- OMP_AKSVD --------------- #\n",
        "# download D\n",
        "!gdown # TODO\n",
        "# download X\n",
        "!gdown # TODO\n",
        "\n",
        "D = np.load('D_OMP_AKSVD.npy')\n",
        "X = np.load('X_OMP_AKSVD.npy')\n",
        "image_denoised = reconstruct_image(D, X, image_noisy, p, m)\n",
        "psnr = Calculate_PSNR(image_clean, image_denoised)\n",
        "print('\\n OMP+AKSVD')\n",
        "print(psnr)\n",
        "print(psnr >= 24)\n",
        "plt.subplot(4, 2, 7)\n",
        "plt.title('OMP+AKSVD ' + str(np.around(psnr, 3)))\n",
        "plt.imshow(image_denoised, cmap='gray')\n",
        "\n",
        "# --------------- BOMP_AKSVD --------------- #\n",
        "# download D\n",
        "!gdown # TODO\n",
        "# download X\n",
        "!gdown # TODO\n",
        "\n",
        "D = np.load('D_BOMP_AKSVD.npy')\n",
        "X = np.load('X_BOMP_AKSVD.npy')\n",
        "image_denoised = reconstruct_image(D, X, image_noisy, p, m)\n",
        "psnr = Calculate_PSNR(image_clean, image_denoised)\n",
        "print('\\n BOMP+AKSVD')\n",
        "print(psnr)\n",
        "print(psnr >= 24)\n",
        "plt.subplot(4, 2, 8)\n",
        "plt.title('BOMP+AKSVD ' + str(np.around(psnr, 3)))\n",
        "plt.imshow(image_denoised, cmap='gray')\n",
        "\n",
        "plt.show()"
      ]
    },
    {
      "cell_type": "markdown",
      "metadata": {
        "id": "CH8qQFIxxzkI"
      },
      "source": [
        "---"
      ]
    },
    {
      "cell_type": "markdown",
      "metadata": {
        "id": "lI0oX3tixzkI"
      },
      "source": [
        "# Give Us Feedback"
      ]
    },
    {
      "cell_type": "code",
      "execution_count": null,
      "metadata": {
        "id": "5Dsd5X2OxzkJ"
      },
      "outputs": [],
      "source": [
        "from ipywidgets import Label, IntSlider, Textarea, Button, Layout, HBox, VBox\n",
        "from IPython.display import clear_output\n",
        "\n",
        "IntSlider_list = {i:IntSlider(value=3, min=1, max=5) for i in range(5)}\n",
        "H1 = HBox([Label(\"How was the homework?\")])\n",
        "H2 = HBox([Label(\"Please rate the homework from 1 to 5 (lowest to highest).\")])\n",
        "H3 = HBox([Label(\"The assignment was instructive.\", layout=Layout(width=\"22%\")), IntSlider_list[0]])\n",
        "H4 = HBox([Label(\"It was not time consuming.\", layout=Layout(width=\"22%\")), IntSlider_list[1]])\n",
        "H5 = HBox([Label(\"The questions were clear.\", layout=Layout(width=\"22%\")), IntSlider_list[2]])\n",
        "H6 = HBox([Label(\"The homework was well organized.\", layout=Layout(width=\"22%\")), IntSlider_list[3]])\n",
        "H7 = HBox([Label(\"Finally, you had a good vibe!\", layout=Layout(width=\"22%\")), IntSlider_list[4]])\n",
        "textarea = Textarea(value='', placeholder='Any comments or suggestions', description='', disabled=False)\n",
        "button = Button(description='Submit', disabled=False, button_style='', tooltip='Click me', icon='paper-plane')\n",
        "H8 = HBox([textarea])\n",
        "H9 = HBox([button])\n",
        "\n",
        "def ff(button):\n",
        "    button.button_style = 'success'\n",
        "    score = sum([IntSlider_list[i].value for i in IntSlider_list]) / 5\n",
        "    x = round(score*4)/4\n",
        "    y = int(x) * '🌕' + ((x-int(x))==0 and not x==5) * '🌑' + ((x-int(x))==0.25) * '🌘' + ((x-int(x))==0.5) * '🌗' + ((x-int(x))==0.75) * '🌖' + (4-int(x)) * '🌑'\n",
        "    clear_output(wait=True)\n",
        "    display(VBox([H1, H2, H3, H4, H5, H6, H7, H8, H9]))\n",
        "    print(\"Thank you for your feedback! 😊\")\n",
        "    print(f\"Score: {y}\")\n",
        "    print(\"\\nFeedback:\",*[IntSlider_list[i].value for i in IntSlider_list])\n",
        "    print(textarea.value)\n",
        "\n",
        "button.on_click(ff)\n",
        "\n",
        "VBox([H1, H2, H3, H4, H5, H6, H7, H8, H9])"
      ]
    },
    {
      "cell_type": "code",
      "execution_count": null,
      "metadata": {
        "id": "0M6ydVdsxzkJ",
        "outputId": "babfdaf5-0f37-42e7-c195-fdc27d91d8a6"
      },
      "outputs": [
        {
          "name": "stderr",
          "output_type": "stream",
          "text": [
            "[NbConvertApp] Converting notebook PHW.ipynb to html\n",
            "[NbConvertApp] Writing 410132 bytes to PHW.html\n"
          ]
        }
      ],
      "source": [
        "# To export jupyter notebook to html, save your notebook and run this cell\n",
        "!jupyter nbconvert --to html PHW.ipynb"
      ]
    }
  ],
  "metadata": {
    "colab": {
      "collapsed_sections": [
        "raN3YszSxzjg",
        "eM3okLHLxzjq",
        "jKJxkrpYxzjt",
        "FCXe9MLTxzjx"
      ],
      "name": "PHW_98102121.ipynb",
      "provenance": []
    },
    "kernelspec": {
      "display_name": "Python 3 (ipykernel)",
      "language": "python",
      "name": "python3"
    },
    "language_info": {
      "codemirror_mode": {
        "name": "ipython",
        "version": 3
      },
      "file_extension": ".py",
      "mimetype": "text/x-python",
      "name": "python",
      "nbconvert_exporter": "python",
      "pygments_lexer": "ipython3",
      "version": "3.9.7"
    }
  },
  "nbformat": 4,
  "nbformat_minor": 0
}